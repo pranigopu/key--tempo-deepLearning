{
 "cells": [
  {
   "cell_type": "markdown",
   "id": "7c439787-d2d8-41fd-9ef2-75f87715c1c5",
   "metadata": {},
   "source": [
    "# 2. MUSICAL TEMPO CLASSIFICATION\n",
    "\n",
    "High-level steps:\n",
    "\n",
    "1. Create train, validation and test sets\n",
    "2. Build the neural network\n",
    "3. Train the neural network\n",
    "4. Evaluate the neural network on the test set\n",
    "5. Make predictions on a new sample"
   ]
  },
  {
   "cell_type": "code",
   "execution_count": 169,
   "id": "8f8370ba-f1f2-463b-b3c6-64b6c1809e5d",
   "metadata": {},
   "outputs": [
    {
     "name": "stdout",
     "output_type": "stream",
     "text": [
      "importing Jupyter notebook from .\\Functions.ipynb\n"
     ]
    }
   ],
   "source": [
    "import import_ipynb\n",
    "N = import_ipynb.NotebookLoader(path=['.'])\n",
    "N.load_module(\"Functions\")\n",
    "from Functions import *"
   ]
  },
  {
   "cell_type": "markdown",
   "id": "e24f0cd6-174f-40f7-85a0-89dbb814b9a8",
   "metadata": {},
   "source": [
    "# Important values"
   ]
  },
  {
   "cell_type": "code",
   "execution_count": 188,
   "id": "68f96035-5e0b-4410-adb7-584d6cc170fa",
   "metadata": {},
   "outputs": [],
   "source": [
    "# Paths to the data:\n",
    "annotations_folder = 'storage/annotationsForMusicalTempoClassification'\n",
    "audio_folder = 'storage/audioForMusicalTempoClassification'\n",
    "spectrograms_storage_file_name = 'storage/musicalTempoClassificationSpectrograms.npy'\n",
    "melspectrograms_storage_file_name = 'storage/musicalTempoClassificationMelspectrograms.npy'\n",
    "num_classes = None # Assigned later\n",
    "segments_per_file = 20"
   ]
  },
  {
   "cell_type": "markdown",
   "id": "93ddff06-2f8d-4633-9a8f-28184359efbd",
   "metadata": {},
   "source": [
    "# Obtain data"
   ]
  },
  {
   "cell_type": "markdown",
   "id": "d7faac65-d5a6-4663-a55e-bde030a3ec8f",
   "metadata": {},
   "source": [
    "## Mapping between musical keys & integers\n",
    "This is for creating target values amenable to 1-hot encoding, which in turn helps in training...\n",
    "\n",
    "To solve tempo recognition as a classification problem, we consider integer values of tempo classes from [0, 5) to [250, 255)."
   ]
  },
  {
   "cell_type": "markdown",
   "id": "a26b1771-b24e-47f6-9f8e-ab22d9df002e",
   "metadata": {},
   "source": [
    "Reading from the annotations folder...\n",
    "\n",
    "> REFERENCE: https://www.geeksforgeeks.org/how-to-read-from-a-file-in-python/"
   ]
  },
  {
   "cell_type": "code",
   "execution_count": 189,
   "id": "71693c57-aa5b-43f8-951c-99730a87181e",
   "metadata": {},
   "outputs": [],
   "source": [
    "# Navigate to the annotations directory:\n",
    "os.chdir(annotations_folder)\n",
    "  \n",
    "# Functions for reading text files:\n",
    "tracks, annotations = [], []\n",
    "def read_text_file(file_path): \n",
    "    with open(file_path, 'r') as f:\n",
    "        tracks.append(file_path[:-9]) # The slicing of `file_path` excludes the file extensions and keeps the track ID\n",
    "        annotations.append(float(f.read()))\n",
    "        f.close()\n",
    "  \n",
    "# Iterate through all files in the current directory: \n",
    "for file in os.listdir():\n",
    "    file_path = f'{file}'\n",
    "    read_text_file(file_path)\n",
    "\n",
    "# Navigating back to the previous folder:\n",
    "os.chdir('..')"
   ]
  },
  {
   "cell_type": "markdown",
   "id": "19851cfc-37ab-4dcf-87b0-dacc59f908d8",
   "metadata": {},
   "source": [
    "Obtaining tempo annotations as integer classes..."
   ]
  },
  {
   "cell_type": "code",
   "execution_count": 190,
   "id": "3810953b-3628-4572-a9c6-525439759218",
   "metadata": {},
   "outputs": [],
   "source": [
    "num_classes = 50\n",
    "\n",
    "annotations_by_classes = []\n",
    "for annotation in annotations:\n",
    "    annotations_by_classes.append(int(annotation // 5))"
   ]
  },
  {
   "cell_type": "markdown",
   "id": "d87eb3c4-2bae-40e2-b533-7e88bda35ea5",
   "metadata": {},
   "source": [
    "## Ground truth"
   ]
  },
  {
   "cell_type": "markdown",
   "id": "8dede7f4-4c9f-47c1-bd20-15699811906b",
   "metadata": {},
   "source": [
    "Creating a dataframe for the ground truth..."
   ]
  },
  {
   "cell_type": "code",
   "execution_count": 191,
   "id": "5da11bf1-6c14-4907-a422-558e15d2df31",
   "metadata": {},
   "outputs": [
    {
     "data": {
      "text/html": [
       "<div>\n",
       "<style scoped>\n",
       "    .dataframe tbody tr th:only-of-type {\n",
       "        vertical-align: middle;\n",
       "    }\n",
       "\n",
       "    .dataframe tbody tr th {\n",
       "        vertical-align: top;\n",
       "    }\n",
       "\n",
       "    .dataframe thead th {\n",
       "        text-align: right;\n",
       "    }\n",
       "</style>\n",
       "<table border=\"1\" class=\"dataframe\">\n",
       "  <thead>\n",
       "    <tr style=\"text-align: right;\">\n",
       "      <th></th>\n",
       "      <th>TRACK</th>\n",
       "      <th>TEMPO</th>\n",
       "      <th>TARGET</th>\n",
       "    </tr>\n",
       "  </thead>\n",
       "  <tbody>\n",
       "    <tr>\n",
       "      <th>0</th>\n",
       "      <td>1030011</td>\n",
       "      <td>127.0</td>\n",
       "      <td>25</td>\n",
       "    </tr>\n",
       "    <tr>\n",
       "      <th>1</th>\n",
       "      <td>1068430</td>\n",
       "      <td>174.0</td>\n",
       "      <td>34</td>\n",
       "    </tr>\n",
       "    <tr>\n",
       "      <th>2</th>\n",
       "      <td>1084996</td>\n",
       "      <td>142.0</td>\n",
       "      <td>28</td>\n",
       "    </tr>\n",
       "    <tr>\n",
       "      <th>3</th>\n",
       "      <td>1092771</td>\n",
       "      <td>136.0</td>\n",
       "      <td>27</td>\n",
       "    </tr>\n",
       "    <tr>\n",
       "      <th>4</th>\n",
       "      <td>1114156</td>\n",
       "      <td>86.0</td>\n",
       "      <td>17</td>\n",
       "    </tr>\n",
       "  </tbody>\n",
       "</table>\n",
       "</div>"
      ],
      "text/plain": [
       "     TRACK  TEMPO  TARGET\n",
       "0  1030011  127.0      25\n",
       "1  1068430  174.0      34\n",
       "2  1084996  142.0      28\n",
       "3  1092771  136.0      27\n",
       "4  1114156   86.0      17"
      ]
     },
     "execution_count": 191,
     "metadata": {},
     "output_type": "execute_result"
    }
   ],
   "source": [
    "# Creating the dataframe\n",
    "df = pd.DataFrame(data={'TRACK':tracks, 'TEMPO':annotations, 'TARGET':annotations_by_classes})\n",
    "# Seeing some rows of the dataset:\n",
    "df.head(5)"
   ]
  },
  {
   "cell_type": "markdown",
   "id": "379430a9-ae0b-4312-87d0-40fb96be3da1",
   "metadata": {},
   "source": [
    "# Preparing datasets"
   ]
  },
  {
   "cell_type": "markdown",
   "id": "d9dcddfd-9ee3-41ad-8e78-972116556ddf",
   "metadata": {},
   "source": [
    "Obtaining melspectrograms for each audio file..."
   ]
  },
  {
   "cell_type": "code",
   "execution_count": 207,
   "id": "3fe08d65-20d3-4bb9-a472-88cae37e175e",
   "metadata": {},
   "outputs": [
    {
     "name": "stdin",
     "output_type": "stream",
     "text": [
      "Regenerate spectrograms? No\n",
      "Regenerate melspectrograms? Yes\n"
     ]
    },
    {
     "name": "stdout",
     "output_type": "stream",
     "text": [
      "...........\n",
      "Done\n"
     ]
    }
   ],
   "source": [
    "audio_params, data = get_all_melspectrograms(df,\n",
    "                                             audio_folder,\n",
    "                                             spectrograms_storage_file_name,\n",
    "                                             melspectrograms_storage_file_name,\n",
    "                                             segments_per_file=segments_per_file,\n",
    "                                             n_mels=12)"
   ]
  },
  {
   "cell_type": "code",
   "execution_count": 208,
   "id": "37185ccf-024d-4bbe-aaa7-8aa53578e77e",
   "metadata": {},
   "outputs": [
    {
     "name": "stdout",
     "output_type": "stream",
     "text": [
      "segments_per_file: 20\n",
      "sr: 44100\n",
      "n_fft: 2048\n",
      "hop_length: 512\n",
      "n_mels: 12\n",
      "n_frames: 2000\n"
     ]
    }
   ],
   "source": [
    "for key in audio_params: print(f'{key}: {audio_params[key]}')"
   ]
  },
  {
   "cell_type": "code",
   "execution_count": 209,
   "id": "54cd0099-ae61-46ca-8a0b-0fcbfb5c323a",
   "metadata": {},
   "outputs": [
    {
     "data": {
      "image/png": "[encoded data removed]",
      "text/plain": [
       "<Figure size 640x480 with 2 Axes>"
      ]
     },
     "metadata": {},
     "output_type": "display_data"
    }
   ],
   "source": [
    "get_random_melspectrogram(data)"
   ]
  },
  {
   "cell_type": "markdown",
   "id": "708bb171-ec6a-45aa-9ce9-af92e74f9203",
   "metadata": {},
   "source": [
    "Now, note that for RNN training, we need to ensure that each data point (i.e. each spectrogram array) is in the form:\n",
    "\n",
    "`<time steps, features>`\n",
    "\n",
    "Hence, for each data point, the first dimension must be the time stamps and the second dimension must be the mel bands.\n",
    "\n",
    "Taking a look at our `data` variable..."
   ]
  },
  {
   "cell_type": "code",
   "execution_count": 210,
   "id": "1ba76173-af95-4b75-a251-72f6c5ed5b20",
   "metadata": {},
   "outputs": [
    {
     "name": "stdout",
     "output_type": "stream",
     "text": [
      "(13280, 12, 100)\n"
     ]
    }
   ],
   "source": [
    "print(np.array(data).shape)"
   ]
  },
  {
   "cell_type": "markdown",
   "id": "0ae9d354-3890-48fb-9237-cceecce441b4",
   "metadata": {},
   "source": [
    "We see that the order is reverse from what it should be. Hence, we do the following..."
   ]
  },
  {
   "cell_type": "code",
   "execution_count": 211,
   "id": "3ff3b7a8-1f66-413f-9cde-334bc68b5618",
   "metadata": {},
   "outputs": [],
   "source": [
    "transposed_data = []\n",
    "for d in data:\n",
    "    transposed_data.append(np.transpose(d))"
   ]
  },
  {
   "cell_type": "markdown",
   "id": "972080f6-6927-4f7e-b872-80c9fb6fe922",
   "metadata": {},
   "source": [
    "Confirming the new shape..."
   ]
  },
  {
   "cell_type": "code",
   "execution_count": 212,
   "id": "2b59ecbf-ee08-48b5-8dd3-5d215ebe27e3",
   "metadata": {},
   "outputs": [
    {
     "name": "stdout",
     "output_type": "stream",
     "text": [
      "(13280, 100, 12)\n"
     ]
    }
   ],
   "source": [
    "print(np.array(transposed_data).shape)"
   ]
  },
  {
   "cell_type": "markdown",
   "id": "d77602a7-207b-4de0-b459-c387f0020b31",
   "metadata": {},
   "source": [
    "Obtaining the data to be used for training and testing of neural networks..."
   ]
  },
  {
   "cell_type": "code",
   "execution_count": 213,
   "id": "8f220832-1320-4cc0-b1f2-52d6968f02d4",
   "metadata": {},
   "outputs": [
    {
     "name": "stdout",
     "output_type": "stream",
     "text": [
      "Training data shape = (11952, 100, 12), Validation data shape = (1328, 100, 12)\n"
     ]
    }
   ],
   "source": [
    "data_params, data_and_labels, train_dataset, validation_dataset = get_data(df,\n",
    "                                                                           transposed_data,\n",
    "                                                                           num_classes,\n",
    "                                                                           segments_per_file=segments_per_file,\n",
    "                                                                           validation_start=0.9,\n",
    "                                                                           batch_size=64)"
   ]
  },
  {
   "cell_type": "code",
   "execution_count": 214,
   "id": "5ce400f0-0237-4759-896f-8d90d9911e6c",
   "metadata": {},
   "outputs": [
    {
     "name": "stdout",
     "output_type": "stream",
     "text": [
      "segments_per_file: 20\n",
      "validation_start: 0.9\n",
      "num_classes: 50\n",
      "batch_size: 64\n"
     ]
    }
   ],
   "source": [
    "for key in data_params: print(f'{key}: {data_params[key]}')"
   ]
  },
  {
   "cell_type": "markdown",
   "id": "8bf7fd67-d231-4b17-a432-204b630d6bc2",
   "metadata": {},
   "source": [
    "# Building & training the RNN\n",
    "\n",
    "> REFERENCES:\n",
    "> - https://www.tensorflow.org/guide/keras/working_with_rnns\n",
    "> - https://keras.io/api/layers/recurrent_layers/bidirectional/\n",
    "> - https://blog.paperspace.com/bidirectional-rnn-keras/\n",
    "> - https://keras.io/api/layers/recurrent_layers/stacked_rnn_cell/\n",
    "> - https://keras.io/api/layers/recurrent_layers/simple_rnn_cell/\n",
    "> - https://youtu.be/4nXI0h2sq2I?si=qT4aDoM9UojjhQr6\n",
    "> - https://www.analyticsvidhya.com/blog/2021/03/introduction-to-batch-normalization/"
   ]
  },
  {
   "cell_type": "code",
   "execution_count": 215,
   "id": "9a859688-b5fc-44b1-a40f-6183b83c0094",
   "metadata": {},
   "outputs": [],
   "source": [
    "rnn_out = 64\n",
    "\n",
    "# Function to generate RNN model...\n",
    "def get_model(input_shape=(audio_params['n_frames'] // data_params['segments_per_file'], audio_params['n_mels'])):\n",
    "    # NOTE: Input shape should be in the form <time steps, features>\n",
    "    '''\n",
    "    Input parameters:\n",
    "    - `input_shape (tuple)`: Shape of input set\n",
    "\n",
    "    Return values:\n",
    "    - `model`: B-RNN model\n",
    "    '''\n",
    "\n",
    "    # BUILD MODEL TOPOLOGY\n",
    "    \n",
    "    model = keras.Sequential()\n",
    "    model.add(keras.layers.Input(input_shape))\n",
    "\n",
    "    # Stacked RNN layers:\n",
    "    rnn_cells = [keras.layers.SimpleRNNCell(rnn_out, activation='tanh', dropout=0, recurrent_dropout=0.05) for _ in range(3)]\n",
    "    model.add(keras.layers.Bidirectional(keras.layers.RNN(keras.layers.StackedRNNCells(rnn_cells))))\n",
    "\n",
    "    # Average pooling layer:\n",
    "    keras.layers.AveragePooling2D(pool_size=(5, 1))\n",
    "\n",
    "    # Fully-connected layers with batch normalisation:\n",
    "    model.add(keras.layers.BatchNormalization())\n",
    "    model.add(keras.layers.Dense(64, activation='elu'))\n",
    "    keras.layers.Dropout(0.5),\n",
    "    \n",
    "    model.add(keras.layers.BatchNormalization())\n",
    "    model.add(keras.layers.Dense(64, activation='elu'))\n",
    "    keras.layers.Dropout(0.5),\n",
    "    \n",
    "    model.add(keras.layers.BatchNormalization())\n",
    "    model.add(keras.layers.Dense(num_classes, activation='softmax'))\n",
    "    \n",
    "    #------------------------------------\n",
    "    # COMPILING MODEL WITH APPROPRIATE LOSS AND OPTIMIZER\n",
    "\n",
    "    # Optimizer:\n",
    "    optimizer = keras.optimizers.SGD(learning_rate=0.01)\n",
    "    # Loss function:\n",
    "    loss = keras.losses.CategoricalCrossentropy()\n",
    "    \n",
    "    model.compile(\n",
    "        optimizer=optimizer,\n",
    "        loss=loss,\n",
    "        metrics=['accuracy'])\n",
    "\n",
    "    return model"
   ]
  },
  {
   "cell_type": "markdown",
   "id": "2379eb83-6175-4bce-bc61-ddd1cbe9d78b",
   "metadata": {},
   "source": [
    "Checking the model's architecture..."
   ]
  },
  {
   "cell_type": "code",
   "execution_count": 216,
   "id": "ccbaf6c2-8bcd-4a7a-9087-9802a74b9d65",
   "metadata": {},
   "outputs": [
    {
     "data": {
      "text/html": [
       "<pre style=\"white-space:pre;overflow-x:auto;line-height:normal;font-family:Menlo,'DejaVu Sans Mono',consolas,'Courier New',monospace\"><span style=\"font-weight: bold\">Model: \"sequential_35\"</span>\n",
       "</pre>\n"
      ],
      "text/plain": [
       "\u001b[1mModel: \"sequential_35\"\u001b[0m\n"
      ]
     },
     "metadata": {},
     "output_type": "display_data"
    },
    {
     "data": {
      "text/html": [
       "<pre style=\"white-space:pre;overflow-x:auto;line-height:normal;font-family:Menlo,'DejaVu Sans Mono',consolas,'Courier New',monospace\">┏━━━━━━━━━━━━━━━━━━━━━━━━━━━━━━━━━━━━━━┳━━━━━━━━━━━━━━━━━━━━━━━━━━━━━┳━━━━━━━━━━━━━━━━━┓\n",
       "┃<span style=\"font-weight: bold\"> Layer (type)                         </span>┃<span style=\"font-weight: bold\"> Output Shape                </span>┃<span style=\"font-weight: bold\">         Param # </span>┃\n",
       "┡━━━━━━━━━━━━━━━━━━━━━━━━━━━━━━━━━━━━━━╇━━━━━━━━━━━━━━━━━━━━━━━━━━━━━╇━━━━━━━━━━━━━━━━━┩\n",
       "│ bidirectional_35 (<span style=\"color: #0087ff; text-decoration-color: #0087ff\">Bidirectional</span>)     │ (<span style=\"color: #00d7ff; text-decoration-color: #00d7ff\">None</span>, <span style=\"color: #00af00; text-decoration-color: #00af00\">128</span>)                 │          <span style=\"color: #00af00; text-decoration-color: #00af00\">42,880</span> │\n",
       "├──────────────────────────────────────┼─────────────────────────────┼─────────────────┤\n",
       "│ batch_normalization_105              │ (<span style=\"color: #00d7ff; text-decoration-color: #00d7ff\">None</span>, <span style=\"color: #00af00; text-decoration-color: #00af00\">128</span>)                 │             <span style=\"color: #00af00; text-decoration-color: #00af00\">512</span> │\n",
       "│ (<span style=\"color: #0087ff; text-decoration-color: #0087ff\">BatchNormalization</span>)                 │                             │                 │\n",
       "├──────────────────────────────────────┼─────────────────────────────┼─────────────────┤\n",
       "│ dense_105 (<span style=\"color: #0087ff; text-decoration-color: #0087ff\">Dense</span>)                    │ (<span style=\"color: #00d7ff; text-decoration-color: #00d7ff\">None</span>, <span style=\"color: #00af00; text-decoration-color: #00af00\">64</span>)                  │           <span style=\"color: #00af00; text-decoration-color: #00af00\">8,256</span> │\n",
       "├──────────────────────────────────────┼─────────────────────────────┼─────────────────┤\n",
       "│ batch_normalization_106              │ (<span style=\"color: #00d7ff; text-decoration-color: #00d7ff\">None</span>, <span style=\"color: #00af00; text-decoration-color: #00af00\">64</span>)                  │             <span style=\"color: #00af00; text-decoration-color: #00af00\">256</span> │\n",
       "│ (<span style=\"color: #0087ff; text-decoration-color: #0087ff\">BatchNormalization</span>)                 │                             │                 │\n",
       "├──────────────────────────────────────┼─────────────────────────────┼─────────────────┤\n",
       "│ dense_106 (<span style=\"color: #0087ff; text-decoration-color: #0087ff\">Dense</span>)                    │ (<span style=\"color: #00d7ff; text-decoration-color: #00d7ff\">None</span>, <span style=\"color: #00af00; text-decoration-color: #00af00\">64</span>)                  │           <span style=\"color: #00af00; text-decoration-color: #00af00\">4,160</span> │\n",
       "├──────────────────────────────────────┼─────────────────────────────┼─────────────────┤\n",
       "│ batch_normalization_107              │ (<span style=\"color: #00d7ff; text-decoration-color: #00d7ff\">None</span>, <span style=\"color: #00af00; text-decoration-color: #00af00\">64</span>)                  │             <span style=\"color: #00af00; text-decoration-color: #00af00\">256</span> │\n",
       "│ (<span style=\"color: #0087ff; text-decoration-color: #0087ff\">BatchNormalization</span>)                 │                             │                 │\n",
       "├──────────────────────────────────────┼─────────────────────────────┼─────────────────┤\n",
       "│ dense_107 (<span style=\"color: #0087ff; text-decoration-color: #0087ff\">Dense</span>)                    │ (<span style=\"color: #00d7ff; text-decoration-color: #00d7ff\">None</span>, <span style=\"color: #00af00; text-decoration-color: #00af00\">50</span>)                  │           <span style=\"color: #00af00; text-decoration-color: #00af00\">3,250</span> │\n",
       "└──────────────────────────────────────┴─────────────────────────────┴─────────────────┘\n",
       "</pre>\n"
      ],
      "text/plain": [
       "┏━━━━━━━━━━━━━━━━━━━━━━━━━━━━━━━━━━━━━━┳━━━━━━━━━━━━━━━━━━━━━━━━━━━━━┳━━━━━━━━━━━━━━━━━┓\n",
       "┃\u001b[1m \u001b[0m\u001b[1mLayer (type)                        \u001b[0m\u001b[1m \u001b[0m┃\u001b[1m \u001b[0m\u001b[1mOutput Shape               \u001b[0m\u001b[1m \u001b[0m┃\u001b[1m \u001b[0m\u001b[1m        Param #\u001b[0m\u001b[1m \u001b[0m┃\n",
       "┡━━━━━━━━━━━━━━━━━━━━━━━━━━━━━━━━━━━━━━╇━━━━━━━━━━━━━━━━━━━━━━━━━━━━━╇━━━━━━━━━━━━━━━━━┩\n",
       "│ bidirectional_35 (\u001b[38;5;33mBidirectional\u001b[0m)     │ (\u001b[38;5;45mNone\u001b[0m, \u001b[38;5;34m128\u001b[0m)                 │          \u001b[38;5;34m42,880\u001b[0m │\n",
       "├──────────────────────────────────────┼─────────────────────────────┼─────────────────┤\n",
       "│ batch_normalization_105              │ (\u001b[38;5;45mNone\u001b[0m, \u001b[38;5;34m128\u001b[0m)                 │             \u001b[38;5;34m512\u001b[0m │\n",
       "│ (\u001b[38;5;33mBatchNormalization\u001b[0m)                 │                             │                 │\n",
       "├──────────────────────────────────────┼─────────────────────────────┼─────────────────┤\n",
       "│ dense_105 (\u001b[38;5;33mDense\u001b[0m)                    │ (\u001b[38;5;45mNone\u001b[0m, \u001b[38;5;34m64\u001b[0m)                  │           \u001b[38;5;34m8,256\u001b[0m │\n",
       "├──────────────────────────────────────┼─────────────────────────────┼─────────────────┤\n",
       "│ batch_normalization_106              │ (\u001b[38;5;45mNone\u001b[0m, \u001b[38;5;34m64\u001b[0m)                  │             \u001b[38;5;34m256\u001b[0m │\n",
       "│ (\u001b[38;5;33mBatchNormalization\u001b[0m)                 │                             │                 │\n",
       "├──────────────────────────────────────┼─────────────────────────────┼─────────────────┤\n",
       "│ dense_106 (\u001b[38;5;33mDense\u001b[0m)                    │ (\u001b[38;5;45mNone\u001b[0m, \u001b[38;5;34m64\u001b[0m)                  │           \u001b[38;5;34m4,160\u001b[0m │\n",
       "├──────────────────────────────────────┼─────────────────────────────┼─────────────────┤\n",
       "│ batch_normalization_107              │ (\u001b[38;5;45mNone\u001b[0m, \u001b[38;5;34m64\u001b[0m)                  │             \u001b[38;5;34m256\u001b[0m │\n",
       "│ (\u001b[38;5;33mBatchNormalization\u001b[0m)                 │                             │                 │\n",
       "├──────────────────────────────────────┼─────────────────────────────┼─────────────────┤\n",
       "│ dense_107 (\u001b[38;5;33mDense\u001b[0m)                    │ (\u001b[38;5;45mNone\u001b[0m, \u001b[38;5;34m50\u001b[0m)                  │           \u001b[38;5;34m3,250\u001b[0m │\n",
       "└──────────────────────────────────────┴─────────────────────────────┴─────────────────┘\n"
      ]
     },
     "metadata": {},
     "output_type": "display_data"
    },
    {
     "data": {
      "text/html": [
       "<pre style=\"white-space:pre;overflow-x:auto;line-height:normal;font-family:Menlo,'DejaVu Sans Mono',consolas,'Courier New',monospace\"><span style=\"font-weight: bold\"> Total params: </span><span style=\"color: #00af00; text-decoration-color: #00af00\">59,570</span> (232.70 KB)\n",
       "</pre>\n"
      ],
      "text/plain": [
       "\u001b[1m Total params: \u001b[0m\u001b[38;5;34m59,570\u001b[0m (232.70 KB)\n"
      ]
     },
     "metadata": {},
     "output_type": "display_data"
    },
    {
     "data": {
      "text/html": [
       "<pre style=\"white-space:pre;overflow-x:auto;line-height:normal;font-family:Menlo,'DejaVu Sans Mono',consolas,'Courier New',monospace\"><span style=\"font-weight: bold\"> Trainable params: </span><span style=\"color: #00af00; text-decoration-color: #00af00\">59,058</span> (230.70 KB)\n",
       "</pre>\n"
      ],
      "text/plain": [
       "\u001b[1m Trainable params: \u001b[0m\u001b[38;5;34m59,058\u001b[0m (230.70 KB)\n"
      ]
     },
     "metadata": {},
     "output_type": "display_data"
    },
    {
     "data": {
      "text/html": [
       "<pre style=\"white-space:pre;overflow-x:auto;line-height:normal;font-family:Menlo,'DejaVu Sans Mono',consolas,'Courier New',monospace\"><span style=\"font-weight: bold\"> Non-trainable params: </span><span style=\"color: #00af00; text-decoration-color: #00af00\">512</span> (2.00 KB)\n",
       "</pre>\n"
      ],
      "text/plain": [
       "\u001b[1m Non-trainable params: \u001b[0m\u001b[38;5;34m512\u001b[0m (2.00 KB)\n"
      ]
     },
     "metadata": {},
     "output_type": "display_data"
    }
   ],
   "source": [
    "model = get_model()\n",
    "model.summary()"
   ]
  },
  {
   "cell_type": "markdown",
   "id": "61a2e37b-65c3-4895-a618-2dcddc19a7e0",
   "metadata": {},
   "source": [
    "**NOTES**:\n",
    "\n",
    "**Stacked RNN cell layer**:\n",
    "\n",
    "`keras.layers.StackedRNNCells(cells, **kwargs)`\n",
    "\n",
    "Wrapper allowing a stack of RNN cells to behave as a single cell."
   ]
  },
  {
   "cell_type": "markdown",
   "id": "d394fb89-4e48-467e-9bf8-175ed898a4bd",
   "metadata": {},
   "source": [
    "## Defining customised performance function\n",
    "Customised performance function to account for distance from correct label...\n",
    "\n",
    "Given the following:\n",
    "\n",
    "- $y_i$ = $i$-th true target value\n",
    "- $\\hat{y}_i$ = $i$-th predicted target value\n",
    "- $n$ = Number of predictions\n",
    "\n",
    "Calculation of performance is done as follows:\n",
    "\n",
    "- Obtain of $r_i = \\min(\\frac{\\hat{y}_i + 1}{y_i + 1}$ and $\\frac{y_i + 1}{\\hat{y}_i + 1})$ <br> _1 is added to prevent 0-division_\n",
    "- Obtain $R = \\sum r_i$\n",
    "- Obtain performance as $\\frac{R}{n}$\n",
    "\n",
    "**NOTE: Nature of performance value**:\n",
    "\n",
    "- The highest possible performance is 1\n",
    "- The lowest possible performance is non-zero but close to zero\n",
    "- The same difference between $\\hat{y}_i$ and $y_i$ is penalised less if $\\hat{y}_i > y_i$ <br> _This is because the higher tempi, the lesser the proportional difference between the two tempi_"
   ]
  },
  {
   "cell_type": "code",
   "execution_count": 217,
   "id": "eae652b9-330d-43af-bc20-6e37e5dde9bf",
   "metadata": {},
   "outputs": [],
   "source": [
    "def get_performance(model, data, labels, return_differences=False):\n",
    "    n = float(len(data))\n",
    "\n",
    "    predictions = np.argmax(model(data), axis=1)\n",
    "    # NOTE: `model.predict(x)` returns a vector whose maximum value's index corresponds to the predicted target value\n",
    "\n",
    "    total = 0;\n",
    "    differences = []\n",
    "    \n",
    "    for y_pred, y_true in zip(predictions, labels):\n",
    "        ratio = min(float(y_pred + 1) / (y_true + 1), float(y_true + 1) / (y_pred + 1))\n",
    "        total += ratio\n",
    "        differences.append(abs(y_pred - y_true))\n",
    "    \n",
    "    if return_differences:\n",
    "        return total/n, differences\n",
    "    return total/n"
   ]
  },
  {
   "cell_type": "markdown",
   "id": "633efbab-ac4b-4030-8e05-d07041eb2b8e",
   "metadata": {},
   "source": [
    "## Training the B-RNN\n",
    "### APPROACH 1: Use of predefined training functions (for demonstration purposes)\n",
    "Using predefined methods of `tensorflow.keras.Model`.\n",
    "\n",
    "> REFERENCES:\n",
    "> - https://victorzhou.com/blog/keras-cnn-tutorial/\n",
    "> - https://www.tensorflow.org/api_docs/python/tf/keras/Model"
   ]
  },
  {
   "cell_type": "code",
   "execution_count": 218,
   "id": "143baaa6-e526-4610-bb87-3a52b57052f1",
   "metadata": {},
   "outputs": [
    {
     "name": "stdout",
     "output_type": "stream",
     "text": [
      "TRAINING\n",
      "Epoch 1/60\n",
      "\u001b[1m187/187\u001b[0m \u001b[32m━━━━━━━━━━━━━━━━━━━━\u001b[0m\u001b[37m\u001b[0m \u001b[1m20s\u001b[0m 75ms/step - accuracy: 0.1767 - loss: 3.8003 - val_accuracy: 0.3133 - val_loss: 3.2157\n",
      "Epoch 2/60\n",
      "\u001b[1m187/187\u001b[0m \u001b[32m━━━━━━━━━━━━━━━━━━━━\u001b[0m\u001b[37m\u001b[0m \u001b[1m13s\u001b[0m 71ms/step - accuracy: 0.3185 - loss: 3.1516 - val_accuracy: 0.3065 - val_loss: 3.0709\n",
      "Epoch 3/60\n",
      "\u001b[1m187/187\u001b[0m \u001b[32m━━━━━━━━━━━━━━━━━━━━\u001b[0m\u001b[37m\u001b[0m \u001b[1m14s\u001b[0m 72ms/step - accuracy: 0.3311 - loss: 2.8759 - val_accuracy: 0.3102 - val_loss: 2.8397\n",
      "Epoch 4/60\n",
      "\u001b[1m187/187\u001b[0m \u001b[32m━━━━━━━━━━━━━━━━━━━━\u001b[0m\u001b[37m\u001b[0m \u001b[1m13s\u001b[0m 72ms/step - accuracy: 0.3425 - loss: 2.6475 - val_accuracy: 0.3185 - val_loss: 2.6444\n",
      "Epoch 5/60\n",
      "\u001b[1m187/187\u001b[0m \u001b[32m━━━━━━━━━━━━━━━━━━━━\u001b[0m\u001b[37m\u001b[0m \u001b[1m13s\u001b[0m 71ms/step - accuracy: 0.3537 - loss: 2.4844 - val_accuracy: 0.3238 - val_loss: 2.5470\n",
      "Epoch 6/60\n",
      "\u001b[1m187/187\u001b[0m \u001b[32m━━━━━━━━━━━━━━━━━━━━\u001b[0m\u001b[37m\u001b[0m \u001b[1m13s\u001b[0m 70ms/step - accuracy: 0.3628 - loss: 2.3740 - val_accuracy: 0.3291 - val_loss: 2.4389\n",
      "Epoch 7/60\n",
      "\u001b[1m187/187\u001b[0m \u001b[32m━━━━━━━━━━━━━━━━━━━━\u001b[0m\u001b[37m\u001b[0m \u001b[1m14s\u001b[0m 73ms/step - accuracy: 0.3814 - loss: 2.2871 - val_accuracy: 0.3652 - val_loss: 2.3447\n",
      "Epoch 8/60\n",
      "\u001b[1m187/187\u001b[0m \u001b[32m━━━━━━━━━━━━━━━━━━━━\u001b[0m\u001b[37m\u001b[0m \u001b[1m13s\u001b[0m 71ms/step - accuracy: 0.4132 - loss: 2.1739 - val_accuracy: 0.4232 - val_loss: 2.1169\n",
      "Epoch 9/60\n",
      "\u001b[1m187/187\u001b[0m \u001b[32m━━━━━━━━━━━━━━━━━━━━\u001b[0m\u001b[37m\u001b[0m \u001b[1m14s\u001b[0m 74ms/step - accuracy: 0.4525 - loss: 2.0285 - val_accuracy: 0.4458 - val_loss: 1.9897\n",
      "Epoch 10/60\n",
      "\u001b[1m187/187\u001b[0m \u001b[32m━━━━━━━━━━━━━━━━━━━━\u001b[0m\u001b[37m\u001b[0m \u001b[1m13s\u001b[0m 71ms/step - accuracy: 0.4883 - loss: 1.8988 - val_accuracy: 0.4639 - val_loss: 1.9727\n",
      "Epoch 11/60\n",
      "\u001b[1m187/187\u001b[0m \u001b[32m━━━━━━━━━━━━━━━━━━━━\u001b[0m\u001b[37m\u001b[0m \u001b[1m13s\u001b[0m 71ms/step - accuracy: 0.5283 - loss: 1.7722 - val_accuracy: 0.4699 - val_loss: 1.9415\n",
      "Epoch 12/60\n",
      "\u001b[1m187/187\u001b[0m \u001b[32m━━━━━━━━━━━━━━━━━━━━\u001b[0m\u001b[37m\u001b[0m \u001b[1m13s\u001b[0m 71ms/step - accuracy: 0.5587 - loss: 1.6632 - val_accuracy: 0.5791 - val_loss: 1.5312\n",
      "Epoch 13/60\n",
      "\u001b[1m187/187\u001b[0m \u001b[32m━━━━━━━━━━━━━━━━━━━━\u001b[0m\u001b[37m\u001b[0m \u001b[1m13s\u001b[0m 70ms/step - accuracy: 0.5894 - loss: 1.5347 - val_accuracy: 0.5866 - val_loss: 1.4819\n",
      "Epoch 14/60\n",
      "\u001b[1m187/187\u001b[0m \u001b[32m━━━━━━━━━━━━━━━━━━━━\u001b[0m\u001b[37m\u001b[0m \u001b[1m13s\u001b[0m 72ms/step - accuracy: 0.5753 - loss: 1.5753 - val_accuracy: 0.5896 - val_loss: 1.5102\n",
      "Epoch 15/60\n",
      "\u001b[1m187/187\u001b[0m \u001b[32m━━━━━━━━━━━━━━━━━━━━\u001b[0m\u001b[37m\u001b[0m \u001b[1m14s\u001b[0m 72ms/step - accuracy: 0.6042 - loss: 1.4459 - val_accuracy: 0.5768 - val_loss: 1.4763\n",
      "Epoch 16/60\n",
      "\u001b[1m187/187\u001b[0m \u001b[32m━━━━━━━━━━━━━━━━━━━━\u001b[0m\u001b[37m\u001b[0m \u001b[1m13s\u001b[0m 72ms/step - accuracy: 0.6210 - loss: 1.3717 - val_accuracy: 0.5971 - val_loss: 1.4133\n",
      "Epoch 17/60\n",
      "\u001b[1m187/187\u001b[0m \u001b[32m━━━━━━━━━━━━━━━━━━━━\u001b[0m\u001b[37m\u001b[0m \u001b[1m13s\u001b[0m 72ms/step - accuracy: 0.6269 - loss: 1.3263 - val_accuracy: 0.6107 - val_loss: 1.3521\n",
      "Epoch 18/60\n",
      "\u001b[1m187/187\u001b[0m \u001b[32m━━━━━━━━━━━━━━━━━━━━\u001b[0m\u001b[37m\u001b[0m \u001b[1m14s\u001b[0m 72ms/step - accuracy: 0.6305 - loss: 1.2807 - val_accuracy: 0.6197 - val_loss: 1.3456\n",
      "Epoch 19/60\n",
      "\u001b[1m187/187\u001b[0m \u001b[32m━━━━━━━━━━━━━━━━━━━━\u001b[0m\u001b[37m\u001b[0m \u001b[1m14s\u001b[0m 74ms/step - accuracy: 0.6387 - loss: 1.2452 - val_accuracy: 0.6318 - val_loss: 1.2723\n",
      "Epoch 20/60\n",
      "\u001b[1m187/187\u001b[0m \u001b[32m━━━━━━━━━━━━━━━━━━━━\u001b[0m\u001b[37m\u001b[0m \u001b[1m14s\u001b[0m 73ms/step - accuracy: 0.6488 - loss: 1.2068 - val_accuracy: 0.6325 - val_loss: 1.2338\n",
      "Epoch 21/60\n",
      "\u001b[1m187/187\u001b[0m \u001b[32m━━━━━━━━━━━━━━━━━━━━\u001b[0m\u001b[37m\u001b[0m \u001b[1m14s\u001b[0m 74ms/step - accuracy: 0.6603 - loss: 1.1761 - val_accuracy: 0.6431 - val_loss: 1.2342\n",
      "Epoch 22/60\n",
      "\u001b[1m187/187\u001b[0m \u001b[32m━━━━━━━━━━━━━━━━━━━━\u001b[0m\u001b[37m\u001b[0m \u001b[1m14s\u001b[0m 74ms/step - accuracy: 0.6607 - loss: 1.1540 - val_accuracy: 0.6416 - val_loss: 1.1956\n",
      "Epoch 23/60\n",
      "\u001b[1m187/187\u001b[0m \u001b[32m━━━━━━━━━━━━━━━━━━━━\u001b[0m\u001b[37m\u001b[0m \u001b[1m14s\u001b[0m 74ms/step - accuracy: 0.6670 - loss: 1.1201 - val_accuracy: 0.6476 - val_loss: 1.2128\n",
      "Epoch 24/60\n",
      "\u001b[1m187/187\u001b[0m \u001b[32m━━━━━━━━━━━━━━━━━━━━\u001b[0m\u001b[37m\u001b[0m \u001b[1m14s\u001b[0m 73ms/step - accuracy: 0.6717 - loss: 1.0994 - val_accuracy: 0.6453 - val_loss: 1.2046\n",
      "Epoch 25/60\n",
      "\u001b[1m187/187\u001b[0m \u001b[32m━━━━━━━━━━━━━━━━━━━━\u001b[0m\u001b[37m\u001b[0m \u001b[1m13s\u001b[0m 72ms/step - accuracy: 0.6778 - loss: 1.0759 - val_accuracy: 0.6483 - val_loss: 1.1736\n",
      "Epoch 26/60\n",
      "\u001b[1m187/187\u001b[0m \u001b[32m━━━━━━━━━━━━━━━━━━━━\u001b[0m\u001b[37m\u001b[0m \u001b[1m14s\u001b[0m 73ms/step - accuracy: 0.6809 - loss: 1.0477 - val_accuracy: 0.6461 - val_loss: 1.1615\n",
      "Epoch 27/60\n",
      "\u001b[1m187/187\u001b[0m \u001b[32m━━━━━━━━━━━━━━━━━━━━\u001b[0m\u001b[37m\u001b[0m \u001b[1m13s\u001b[0m 70ms/step - accuracy: 0.6899 - loss: 1.0189 - val_accuracy: 0.6468 - val_loss: 1.1451\n",
      "Epoch 28/60\n",
      "\u001b[1m187/187\u001b[0m \u001b[32m━━━━━━━━━━━━━━━━━━━━\u001b[0m\u001b[37m\u001b[0m \u001b[1m13s\u001b[0m 71ms/step - accuracy: 0.6952 - loss: 1.0047 - val_accuracy: 0.6468 - val_loss: 1.1643\n",
      "Epoch 29/60\n",
      "\u001b[1m187/187\u001b[0m \u001b[32m━━━━━━━━━━━━━━━━━━━━\u001b[0m\u001b[37m\u001b[0m \u001b[1m13s\u001b[0m 72ms/step - accuracy: 0.7002 - loss: 0.9730 - val_accuracy: 0.6521 - val_loss: 1.1614\n",
      "Epoch 30/60\n",
      "\u001b[1m187/187\u001b[0m \u001b[32m━━━━━━━━━━━━━━━━━━━━\u001b[0m\u001b[37m\u001b[0m \u001b[1m14s\u001b[0m 72ms/step - accuracy: 0.7037 - loss: 0.9573 - val_accuracy: 0.6167 - val_loss: 1.2800\n",
      "Epoch 31/60\n",
      "\u001b[1m187/187\u001b[0m \u001b[32m━━━━━━━━━━━━━━━━━━━━\u001b[0m\u001b[37m\u001b[0m \u001b[1m13s\u001b[0m 71ms/step - accuracy: 0.6960 - loss: 0.9901 - val_accuracy: 0.6581 - val_loss: 1.1404\n",
      "Epoch 32/60\n",
      "\u001b[1m187/187\u001b[0m \u001b[32m━━━━━━━━━━━━━━━━━━━━\u001b[0m\u001b[37m\u001b[0m \u001b[1m13s\u001b[0m 70ms/step - accuracy: 0.7080 - loss: 0.9421 - val_accuracy: 0.6574 - val_loss: 1.1191\n",
      "Epoch 33/60\n",
      "\u001b[1m187/187\u001b[0m \u001b[32m━━━━━━━━━━━━━━━━━━━━\u001b[0m\u001b[37m\u001b[0m \u001b[1m14s\u001b[0m 72ms/step - accuracy: 0.7112 - loss: 0.9261 - val_accuracy: 0.6250 - val_loss: 1.2708\n",
      "Epoch 34/60\n",
      "\u001b[1m187/187\u001b[0m \u001b[32m━━━━━━━━━━━━━━━━━━━━\u001b[0m\u001b[37m\u001b[0m \u001b[1m14s\u001b[0m 72ms/step - accuracy: 0.7183 - loss: 0.8891 - val_accuracy: 0.6649 - val_loss: 1.0906\n",
      "Epoch 35/60\n",
      "\u001b[1m187/187\u001b[0m \u001b[32m━━━━━━━━━━━━━━━━━━━━\u001b[0m\u001b[37m\u001b[0m \u001b[1m13s\u001b[0m 71ms/step - accuracy: 0.7241 - loss: 0.8697 - val_accuracy: 0.6619 - val_loss: 1.1042\n",
      "Epoch 36/60\n",
      "\u001b[1m187/187\u001b[0m \u001b[32m━━━━━━━━━━━━━━━━━━━━\u001b[0m\u001b[37m\u001b[0m \u001b[1m13s\u001b[0m 71ms/step - accuracy: 0.7253 - loss: 0.8664 - val_accuracy: 0.6642 - val_loss: 1.1273\n",
      "Epoch 37/60\n",
      "\u001b[1m187/187\u001b[0m \u001b[32m━━━━━━━━━━━━━━━━━━━━\u001b[0m\u001b[37m\u001b[0m \u001b[1m13s\u001b[0m 71ms/step - accuracy: 0.7319 - loss: 0.8435 - val_accuracy: 0.6702 - val_loss: 1.0905\n",
      "Epoch 38/60\n",
      "\u001b[1m187/187\u001b[0m \u001b[32m━━━━━━━━━━━━━━━━━━━━\u001b[0m\u001b[37m\u001b[0m \u001b[1m13s\u001b[0m 71ms/step - accuracy: 0.7313 - loss: 0.8299 - val_accuracy: 0.6627 - val_loss: 1.1024\n",
      "Epoch 39/60\n",
      "\u001b[1m187/187\u001b[0m \u001b[32m━━━━━━━━━━━━━━━━━━━━\u001b[0m\u001b[37m\u001b[0m \u001b[1m14s\u001b[0m 73ms/step - accuracy: 0.7427 - loss: 0.8181 - val_accuracy: 0.6694 - val_loss: 1.1109\n",
      "Epoch 40/60\n",
      "\u001b[1m187/187\u001b[0m \u001b[32m━━━━━━━━━━━━━━━━━━━━\u001b[0m\u001b[37m\u001b[0m \u001b[1m14s\u001b[0m 74ms/step - accuracy: 0.7434 - loss: 0.8107 - val_accuracy: 0.6649 - val_loss: 1.1009\n",
      "Epoch 41/60\n",
      "\u001b[1m187/187\u001b[0m \u001b[32m━━━━━━━━━━━━━━━━━━━━\u001b[0m\u001b[37m\u001b[0m \u001b[1m13s\u001b[0m 72ms/step - accuracy: 0.7402 - loss: 0.8030 - val_accuracy: 0.6604 - val_loss: 1.1116\n",
      "Epoch 42/60\n",
      "\u001b[1m187/187\u001b[0m \u001b[32m━━━━━━━━━━━━━━━━━━━━\u001b[0m\u001b[37m\u001b[0m \u001b[1m14s\u001b[0m 73ms/step - accuracy: 0.7482 - loss: 0.7803 - val_accuracy: 0.6642 - val_loss: 1.1166\n",
      "Epoch 43/60\n",
      "\u001b[1m187/187\u001b[0m \u001b[32m━━━━━━━━━━━━━━━━━━━━\u001b[0m\u001b[37m\u001b[0m \u001b[1m14s\u001b[0m 72ms/step - accuracy: 0.7536 - loss: 0.7741 - val_accuracy: 0.6709 - val_loss: 1.0958\n",
      "Epoch 44/60\n",
      "\u001b[1m187/187\u001b[0m \u001b[32m━━━━━━━━━━━━━━━━━━━━\u001b[0m\u001b[37m\u001b[0m \u001b[1m13s\u001b[0m 71ms/step - accuracy: 0.7555 - loss: 0.7657 - val_accuracy: 0.6521 - val_loss: 1.1702\n",
      "Epoch 45/60\n",
      "\u001b[1m187/187\u001b[0m \u001b[32m━━━━━━━━━━━━━━━━━━━━\u001b[0m\u001b[37m\u001b[0m \u001b[1m14s\u001b[0m 73ms/step - accuracy: 0.7555 - loss: 0.7568 - val_accuracy: 0.6619 - val_loss: 1.1155\n",
      "Epoch 46/60\n",
      "\u001b[1m187/187\u001b[0m \u001b[32m━━━━━━━━━━━━━━━━━━━━\u001b[0m\u001b[37m\u001b[0m \u001b[1m14s\u001b[0m 73ms/step - accuracy: 0.7657 - loss: 0.7259 - val_accuracy: 0.6664 - val_loss: 1.1346\n",
      "Epoch 47/60\n",
      "\u001b[1m187/187\u001b[0m \u001b[32m━━━━━━━━━━━━━━━━━━━━\u001b[0m\u001b[37m\u001b[0m \u001b[1m14s\u001b[0m 75ms/step - accuracy: 0.7625 - loss: 0.7281 - val_accuracy: 0.6664 - val_loss: 1.1251\n",
      "Epoch 48/60\n",
      "\u001b[1m187/187\u001b[0m \u001b[32m━━━━━━━━━━━━━━━━━━━━\u001b[0m\u001b[37m\u001b[0m \u001b[1m14s\u001b[0m 74ms/step - accuracy: 0.7668 - loss: 0.7177 - val_accuracy: 0.6619 - val_loss: 1.1424\n",
      "Epoch 49/60\n",
      "\u001b[1m187/187\u001b[0m \u001b[32m━━━━━━━━━━━━━━━━━━━━\u001b[0m\u001b[37m\u001b[0m \u001b[1m14s\u001b[0m 72ms/step - accuracy: 0.7691 - loss: 0.7070 - val_accuracy: 0.6498 - val_loss: 1.1818\n",
      "Epoch 50/60\n",
      "\u001b[1m187/187\u001b[0m \u001b[32m━━━━━━━━━━━━━━━━━━━━\u001b[0m\u001b[37m\u001b[0m \u001b[1m13s\u001b[0m 69ms/step - accuracy: 0.7687 - loss: 0.7026 - val_accuracy: 0.6581 - val_loss: 1.2127\n",
      "Epoch 51/60\n",
      "\u001b[1m187/187\u001b[0m \u001b[32m━━━━━━━━━━━━━━━━━━━━\u001b[0m\u001b[37m\u001b[0m \u001b[1m14s\u001b[0m 74ms/step - accuracy: 0.7793 - loss: 0.6775 - val_accuracy: 0.6581 - val_loss: 1.1761\n",
      "Epoch 52/60\n",
      "\u001b[1m187/187\u001b[0m \u001b[32m━━━━━━━━━━━━━━━━━━━━\u001b[0m\u001b[37m\u001b[0m \u001b[1m14s\u001b[0m 73ms/step - accuracy: 0.7847 - loss: 0.6615 - val_accuracy: 0.6227 - val_loss: 1.3258\n",
      "Epoch 53/60\n",
      "\u001b[1m187/187\u001b[0m \u001b[32m━━━━━━━━━━━━━━━━━━━━\u001b[0m\u001b[37m\u001b[0m \u001b[1m13s\u001b[0m 72ms/step - accuracy: 0.7834 - loss: 0.6637 - val_accuracy: 0.6642 - val_loss: 1.1194\n",
      "Epoch 54/60\n",
      "\u001b[1m187/187\u001b[0m \u001b[32m━━━━━━━━━━━━━━━━━━━━\u001b[0m\u001b[37m\u001b[0m \u001b[1m14s\u001b[0m 73ms/step - accuracy: 0.7852 - loss: 0.6512 - val_accuracy: 0.6611 - val_loss: 1.1473\n",
      "Epoch 55/60\n",
      "\u001b[1m187/187\u001b[0m \u001b[32m━━━━━━━━━━━━━━━━━━━━\u001b[0m\u001b[37m\u001b[0m \u001b[1m14s\u001b[0m 73ms/step - accuracy: 0.7911 - loss: 0.6353 - val_accuracy: 0.6514 - val_loss: 1.1637\n",
      "Epoch 56/60\n",
      "\u001b[1m187/187\u001b[0m \u001b[32m━━━━━━━━━━━━━━━━━━━━\u001b[0m\u001b[37m\u001b[0m \u001b[1m14s\u001b[0m 74ms/step - accuracy: 0.7889 - loss: 0.6442 - val_accuracy: 0.6627 - val_loss: 1.1410\n",
      "Epoch 57/60\n",
      "\u001b[1m187/187\u001b[0m \u001b[32m━━━━━━━━━━━━━━━━━━━━\u001b[0m\u001b[37m\u001b[0m \u001b[1m14s\u001b[0m 72ms/step - accuracy: 0.7910 - loss: 0.6298 - val_accuracy: 0.6589 - val_loss: 1.1989\n",
      "Epoch 58/60\n",
      "\u001b[1m187/187\u001b[0m \u001b[32m━━━━━━━━━━━━━━━━━━━━\u001b[0m\u001b[37m\u001b[0m \u001b[1m13s\u001b[0m 71ms/step - accuracy: 0.7994 - loss: 0.6053 - val_accuracy: 0.6536 - val_loss: 1.2227\n",
      "Epoch 59/60\n",
      "\u001b[1m187/187\u001b[0m \u001b[32m━━━━━━━━━━━━━━━━━━━━\u001b[0m\u001b[37m\u001b[0m \u001b[1m14s\u001b[0m 74ms/step - accuracy: 0.8054 - loss: 0.5882 - val_accuracy: 0.6408 - val_loss: 1.3220\n",
      "Epoch 60/60\n",
      "\u001b[1m187/187\u001b[0m \u001b[32m━━━━━━━━━━━━━━━━━━━━\u001b[0m\u001b[37m\u001b[0m \u001b[1m14s\u001b[0m 73ms/step - accuracy: 0.8030 - loss: 0.6015 - val_accuracy: 0.6401 - val_loss: 1.2823\n"
     ]
    }
   ],
   "source": [
    "# Code needed to log training history:\n",
    "from keras.callbacks import CSVLogger\n",
    "csv_logger = CSVLogger('musicalTempoClassificationTraining.log', separator=',', append=False)\n",
    "\n",
    "# Building model:\n",
    "model = get_model()\n",
    "\n",
    "# Training model:\n",
    "print('TRAINING')\n",
    "history = model.fit(\n",
    "    train_dataset,\n",
    "    epochs=60,\n",
    "    batch_size=data_params['batch_size'],\n",
    "    validation_data=validation_dataset,\n",
    "    verbose=True,\n",
    "    callbacks=[csv_logger])"
   ]
  },
  {
   "cell_type": "code",
   "execution_count": 219,
   "id": "4b354087-4a01-4a13-b83b-9e415f868255",
   "metadata": {},
   "outputs": [
    {
     "name": "stdout",
     "output_type": "stream",
     "text": [
      "\n",
      "EVALUATION\n",
      "\u001b[1m21/21\u001b[0m \u001b[32m━━━━━━━━━━━━━━━━━━━━\u001b[0m\u001b[37m\u001b[0m \u001b[1m0s\u001b[0m 18ms/step - accuracy: 0.6430 - loss: 1.2731\n",
      "Validation performance = 0.9226064322889601\n"
     ]
    }
   ],
   "source": [
    "# Evaluating model:\n",
    "print('\\nEVALUATION')\n",
    "validation_error, validation_accuracy = model.evaluate(validation_dataset, verbose=True)\n",
    "performance = get_performance(model, data_and_labels['validation_data'], data_and_labels['validation_labels'], return_differences=True)\n",
    "print('Validation performance =', performance[0])"
   ]
  },
  {
   "cell_type": "markdown",
   "id": "1b673e3b-8826-4f7d-b17f-44e17dbeda29",
   "metadata": {},
   "source": [
    "Mean and standard deviation of differences between true and predicted tempi..."
   ]
  },
  {
   "cell_type": "code",
   "execution_count": 220,
   "id": "1eb77e9d-26f3-4ef0-93a7-14cdcf78ed14",
   "metadata": {},
   "outputs": [
    {
     "name": "stdout",
     "output_type": "stream",
     "text": [
      "Mean: 2.4631024096385543\n",
      "Std: 5.268269418339485\n"
     ]
    }
   ],
   "source": [
    "print(f'Mean: {np.mean(performance[1])}\\nStd: {np.std(performance[1])}')"
   ]
  },
  {
   "cell_type": "code",
   "execution_count": 221,
   "id": "0ab3e907-80f6-4cd7-9207-447d497b051e",
   "metadata": {},
   "outputs": [],
   "source": [
    "# Saving the model for later use:\n",
    "save_model(model, 'storage/musicalTempoClassificationTrainedModelWeights.npy')"
   ]
  },
  {
   "cell_type": "markdown",
   "id": "0cf708db-b4e5-4b0c-a5c5-ff0179bd8030",
   "metadata": {},
   "source": [
    "Plotting the model's accuracy (training and validation) across training..."
   ]
  },
  {
   "cell_type": "code",
   "execution_count": 222,
   "id": "44becbe2-ed71-4e4f-9134-bd7750324771",
   "metadata": {},
   "outputs": [
    {
     "data": {
      "image/png": "[encoded data removed]",
      "text/plain": [
       "<Figure size 640x480 with 1 Axes>"
      ]
     },
     "metadata": {},
     "output_type": "display_data"
    }
   ],
   "source": [
    "plt.plot(history.history['accuracy'])\n",
    "plt.plot(history.history['val_accuracy'])\n",
    "plt.title('Model accuracy')\n",
    "plt.ylabel('accuracy')\n",
    "plt.xlabel('epoch')\n",
    "plt.legend(['train', 'val'], loc='upper left')\n",
    "plt.show()"
   ]
  }
 ],
 "metadata": {
  "kernelspec": {
   "display_name": "Python 3 (ipykernel)",
   "language": "python",
   "name": "python3"
  },
  "language_info": {
   "codemirror_mode": {
    "name": "ipython",
    "version": 3
   },
   "file_extension": ".py",
   "mimetype": "text/x-python",
   "name": "python",
   "nbconvert_exporter": "python",
   "pygments_lexer": "ipython3",
   "version": "3.11.9"
  }
 },
 "nbformat": 4,
 "nbformat_minor": 5
}
