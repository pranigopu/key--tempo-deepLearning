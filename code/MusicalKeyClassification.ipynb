{
 "cells": [
  {
   "cell_type": "markdown",
   "metadata": {
    "id": "8C8QHrXWfcDp"
   },
   "source": [
    "# 1. MUSICAL KEY CLASSIFICATION\n",
    "\n",
    "High-level steps:\n",
    "\n",
    "1. Create train, validation and test sets\n",
    "2. Build the neural network\n",
    "3. Train the neural network\n",
    "4. Evaluate the neural network on the test set\n",
    "5. Make predictions on a new sample"
   ]
  },
  {
   "cell_type": "code",
   "execution_count": 2,
   "metadata": {},
   "outputs": [
    {
     "name": "stdout",
     "output_type": "stream",
     "text": [
      "importing Jupyter notebook from .\\Functions.ipynb\n"
     ]
    }
   ],
   "source": [
    "import import_ipynb\n",
    "N = import_ipynb.NotebookLoader(path=['.'])\n",
    "N.load_module(\"Functions\")\n",
    "from Functions import *"
   ]
  },
  {
   "cell_type": "markdown",
   "metadata": {},
   "source": [
    "# Important values"
   ]
  },
  {
   "cell_type": "code",
   "execution_count": 3,
   "metadata": {},
   "outputs": [],
   "source": [
    "annotations_file  = 'storage/musicalKeyClassificiation.csv'\n",
    "audio_folder = 'storage/audioForMusicalKeyClassification'\n",
    "spectrograms_storage_file_name = 'storage/musicalKeyClassificationSpectrograms.npy'\n",
    "melspectrograms_storage_file_name = 'storage/musicalKeyClassificationMelspectrograms.npy'\n",
    "num_classes = None # Assigned later\n",
    "segments_per_file = 10"
   ]
  },
  {
   "cell_type": "markdown",
   "metadata": {},
   "source": [
    "# Obtain data"
   ]
  },
  {
   "cell_type": "markdown",
   "metadata": {},
   "source": [
    "## Mapping between musical keys & integers\n",
    "This is for creating target values amenable to 1-hot encoding, which in turn helps in training..."
   ]
  },
  {
   "cell_type": "code",
   "execution_count": 4,
   "metadata": {},
   "outputs": [
    {
     "name": "stdout",
     "output_type": "stream",
     "text": [
      "Ab major: 0\n",
      "Ab minor: 12\n",
      "A major: 1\n",
      "A minor: 13\n",
      "Bb major: 2\n",
      "Bb minor: 14\n",
      "B major: 3\n",
      "B minor: 15\n",
      "C major: 4\n",
      "C minor: 16\n",
      "Db major: 5\n",
      "Db minor: 17\n",
      "D major: 6\n",
      "D minor: 18\n",
      "Eb major: 7\n",
      "Eb minor: 19\n",
      "E major: 8\n",
      "E minor: 20\n",
      "F major: 9\n",
      "F minor: 21\n",
      "Gb major: 10\n",
      "Gb minor: 22\n",
      "G major: 11\n",
      "G minor: 23\n"
     ]
    }
   ],
   "source": [
    "# Mapping each possible musical key to an integer:\n",
    "keys = ['Ab', 'A', 'Bb', 'B', 'C', 'Db', 'D', 'Eb', 'E', 'F', 'Gb', 'G']\n",
    "map, i = {}, 0\n",
    "for k in keys:\n",
    "    map[k + ' major'] = i\n",
    "    map[k + ' minor'] = i + 12\n",
    "    i += 1\n",
    "\n",
    "# Printing the mapping:\n",
    "for key in map: print(f'{key}: {map[key]}')"
   ]
  },
  {
   "cell_type": "markdown",
   "metadata": {},
   "source": [
    "**_Hence, note that we have a total of 24 possible target classes._**"
   ]
  },
  {
   "cell_type": "code",
   "execution_count": 5,
   "metadata": {},
   "outputs": [],
   "source": [
    "num_classes = 24"
   ]
  },
  {
   "cell_type": "markdown",
   "metadata": {},
   "source": [
    "## Ground truth"
   ]
  },
  {
   "cell_type": "code",
   "execution_count": 6,
   "metadata": {},
   "outputs": [
    {
     "data": {
      "text/html": [
       "<div>\n",
       "<style scoped>\n",
       "    .dataframe tbody tr th:only-of-type {\n",
       "        vertical-align: middle;\n",
       "    }\n",
       "\n",
       "    .dataframe tbody tr th {\n",
       "        vertical-align: top;\n",
       "    }\n",
       "\n",
       "    .dataframe thead th {\n",
       "        text-align: right;\n",
       "    }\n",
       "</style>\n",
       "<table border=\"1\" class=\"dataframe\">\n",
       "  <thead>\n",
       "    <tr style=\"text-align: right;\">\n",
       "      <th></th>\n",
       "      <th>TRACK</th>\n",
       "      <th>SOURCE</th>\n",
       "      <th>GLOBAL KEY</th>\n",
       "      <th>BEATPORT KEY</th>\n",
       "      <th>SUBGENRE</th>\n",
       "      <th>AUDIO LINK</th>\n",
       "      <th>ARTIST</th>\n",
       "      <th>TRACK.1</th>\n",
       "    </tr>\n",
       "  </thead>\n",
       "  <tbody>\n",
       "    <tr>\n",
       "      <th>0</th>\n",
       "      <td>10089</td>\n",
       "      <td>endo_b</td>\n",
       "      <td>D major</td>\n",
       "      <td>D major</td>\n",
       "      <td>breaks</td>\n",
       "      <td>http://geo-samples.beatport.com/lofi/10089.LOF...</td>\n",
       "      <td>Jason Sparks</td>\n",
       "      <td>Close My Eyes</td>\n",
       "    </tr>\n",
       "    <tr>\n",
       "      <th>1</th>\n",
       "      <td>61415</td>\n",
       "      <td>forum</td>\n",
       "      <td>F minor</td>\n",
       "      <td>F major</td>\n",
       "      <td>trance</td>\n",
       "      <td>http://geo-samples.beatport.com/lofi/61415.LOF...</td>\n",
       "      <td>NaN</td>\n",
       "      <td>NaN</td>\n",
       "    </tr>\n",
       "    <tr>\n",
       "      <th>2</th>\n",
       "      <td>74982</td>\n",
       "      <td>forum</td>\n",
       "      <td>C minor</td>\n",
       "      <td>A minor</td>\n",
       "      <td>trance</td>\n",
       "      <td>http://geo-samples.beatport.com/lofi/74982.LOF...</td>\n",
       "      <td>NaN</td>\n",
       "      <td>NaN</td>\n",
       "    </tr>\n",
       "    <tr>\n",
       "      <th>3</th>\n",
       "      <td>101069</td>\n",
       "      <td>forum</td>\n",
       "      <td>E minor</td>\n",
       "      <td>A major</td>\n",
       "      <td>electro-house</td>\n",
       "      <td>http://geo-samples.beatport.com/lofi/101069.LO...</td>\n",
       "      <td>NaN</td>\n",
       "      <td>NaN</td>\n",
       "    </tr>\n",
       "    <tr>\n",
       "      <th>4</th>\n",
       "      <td>190477</td>\n",
       "      <td>forum</td>\n",
       "      <td>D minor</td>\n",
       "      <td>D major</td>\n",
       "      <td>breaks</td>\n",
       "      <td>http://geo-samples.beatport.com/lofi/190477.LO...</td>\n",
       "      <td>NaN</td>\n",
       "      <td>NaN</td>\n",
       "    </tr>\n",
       "  </tbody>\n",
       "</table>\n",
       "</div>"
      ],
      "text/plain": [
       "    TRACK  SOURCE GLOBAL KEY BEATPORT KEY       SUBGENRE  \\\n",
       "0   10089  endo_b    D major      D major         breaks   \n",
       "1   61415   forum    F minor      F major         trance   \n",
       "2   74982   forum    C minor      A minor         trance   \n",
       "3  101069   forum    E minor      A major  electro-house   \n",
       "4  190477   forum    D minor      D major         breaks   \n",
       "\n",
       "                                          AUDIO LINK        ARTIST  \\\n",
       "0  http://geo-samples.beatport.com/lofi/10089.LOF...  Jason Sparks   \n",
       "1  http://geo-samples.beatport.com/lofi/61415.LOF...           NaN   \n",
       "2  http://geo-samples.beatport.com/lofi/74982.LOF...           NaN   \n",
       "3  http://geo-samples.beatport.com/lofi/101069.LO...           NaN   \n",
       "4  http://geo-samples.beatport.com/lofi/190477.LO...           NaN   \n",
       "\n",
       "         TRACK.1  \n",
       "0  Close My Eyes  \n",
       "1            NaN  \n",
       "2            NaN  \n",
       "3            NaN  \n",
       "4            NaN  "
      ]
     },
     "execution_count": 6,
     "metadata": {},
     "output_type": "execute_result"
    }
   ],
   "source": [
    "# Seeing some rows of the dataset:\n",
    "df = pd.read_csv(annotations_file, header=0)\n",
    "df.head(5)"
   ]
  },
  {
   "cell_type": "code",
   "execution_count": 7,
   "metadata": {},
   "outputs": [
    {
     "data": {
      "text/html": [
       "<div>\n",
       "<style scoped>\n",
       "    .dataframe tbody tr th:only-of-type {\n",
       "        vertical-align: middle;\n",
       "    }\n",
       "\n",
       "    .dataframe tbody tr th {\n",
       "        vertical-align: top;\n",
       "    }\n",
       "\n",
       "    .dataframe thead th {\n",
       "        text-align: right;\n",
       "    }\n",
       "</style>\n",
       "<table border=\"1\" class=\"dataframe\">\n",
       "  <thead>\n",
       "    <tr style=\"text-align: right;\">\n",
       "      <th></th>\n",
       "      <th>TRACK</th>\n",
       "      <th>GLOBAL KEY</th>\n",
       "    </tr>\n",
       "  </thead>\n",
       "  <tbody>\n",
       "    <tr>\n",
       "      <th>0</th>\n",
       "      <td>10089</td>\n",
       "      <td>D major</td>\n",
       "    </tr>\n",
       "    <tr>\n",
       "      <th>1</th>\n",
       "      <td>61415</td>\n",
       "      <td>F minor</td>\n",
       "    </tr>\n",
       "    <tr>\n",
       "      <th>2</th>\n",
       "      <td>74982</td>\n",
       "      <td>C minor</td>\n",
       "    </tr>\n",
       "    <tr>\n",
       "      <th>3</th>\n",
       "      <td>101069</td>\n",
       "      <td>E minor</td>\n",
       "    </tr>\n",
       "    <tr>\n",
       "      <th>4</th>\n",
       "      <td>190477</td>\n",
       "      <td>D minor</td>\n",
       "    </tr>\n",
       "  </tbody>\n",
       "</table>\n",
       "</div>"
      ],
      "text/plain": [
       "    TRACK GLOBAL KEY\n",
       "0   10089    D major\n",
       "1   61415    F minor\n",
       "2   74982    C minor\n",
       "3  101069    E minor\n",
       "4  190477    D minor"
      ]
     },
     "execution_count": 7,
     "metadata": {},
     "output_type": "execute_result"
    }
   ],
   "source": [
    "# Picking out only the relevant data:\n",
    "df = df.drop(['SOURCE', 'BEATPORT KEY', 'SUBGENRE', 'AUDIO LINK', 'ARTIST', 'TRACK.1'], axis=1)\n",
    "df.head(5)"
   ]
  },
  {
   "cell_type": "markdown",
   "metadata": {},
   "source": [
    "Adding a column to indicate target value (this helps in 1-hot encoding, which in turn helps in training)..."
   ]
  },
  {
   "cell_type": "code",
   "execution_count": 8,
   "metadata": {},
   "outputs": [
    {
     "data": {
      "text/html": [
       "<div>\n",
       "<style scoped>\n",
       "    .dataframe tbody tr th:only-of-type {\n",
       "        vertical-align: middle;\n",
       "    }\n",
       "\n",
       "    .dataframe tbody tr th {\n",
       "        vertical-align: top;\n",
       "    }\n",
       "\n",
       "    .dataframe thead th {\n",
       "        text-align: right;\n",
       "    }\n",
       "</style>\n",
       "<table border=\"1\" class=\"dataframe\">\n",
       "  <thead>\n",
       "    <tr style=\"text-align: right;\">\n",
       "      <th></th>\n",
       "      <th>TRACK</th>\n",
       "      <th>GLOBAL KEY</th>\n",
       "      <th>TARGET</th>\n",
       "    </tr>\n",
       "  </thead>\n",
       "  <tbody>\n",
       "    <tr>\n",
       "      <th>0</th>\n",
       "      <td>10089</td>\n",
       "      <td>D major</td>\n",
       "      <td>6</td>\n",
       "    </tr>\n",
       "    <tr>\n",
       "      <th>1</th>\n",
       "      <td>61415</td>\n",
       "      <td>F minor</td>\n",
       "      <td>21</td>\n",
       "    </tr>\n",
       "    <tr>\n",
       "      <th>2</th>\n",
       "      <td>74982</td>\n",
       "      <td>C minor</td>\n",
       "      <td>16</td>\n",
       "    </tr>\n",
       "    <tr>\n",
       "      <th>3</th>\n",
       "      <td>101069</td>\n",
       "      <td>E minor</td>\n",
       "      <td>20</td>\n",
       "    </tr>\n",
       "    <tr>\n",
       "      <th>4</th>\n",
       "      <td>190477</td>\n",
       "      <td>D minor</td>\n",
       "      <td>18</td>\n",
       "    </tr>\n",
       "  </tbody>\n",
       "</table>\n",
       "</div>"
      ],
      "text/plain": [
       "    TRACK GLOBAL KEY  TARGET\n",
       "0   10089    D major       6\n",
       "1   61415    F minor      21\n",
       "2   74982    C minor      16\n",
       "3  101069    E minor      20\n",
       "4  190477    D minor      18"
      ]
     },
     "execution_count": 8,
     "metadata": {},
     "output_type": "execute_result"
    }
   ],
   "source": [
    "# Appending a new column to contain the target values obtained previously:\n",
    "target = []\n",
    "for value in df['GLOBAL KEY']: target.append(map[value])\n",
    "df['TARGET'] = target\n",
    "df.head(5)"
   ]
  },
  {
   "cell_type": "markdown",
   "metadata": {},
   "source": [
    "# Preparing datasets\n",
    "\n",
    "Obtaining melspectrograms for each audio file..."
   ]
  },
  {
   "cell_type": "code",
   "execution_count": 9,
   "metadata": {},
   "outputs": [
    {
     "name": "stdout",
     "output_type": "stream",
     "text": [
      "Regenerate spectrograms? No\n",
      "Regenerate melspectrograms? No\n"
     ]
    }
   ],
   "source": [
    "audio_params, data = get_all_melspectrograms(df,\n",
    "                                             audio_folder,\n",
    "                                             spectrograms_storage_file_name,\n",
    "                                             melspectrograms_storage_file_name,\n",
    "                                             segments_per_file=segments_per_file,\n",
    "                                             n_mels=128)"
   ]
  },
  {
   "cell_type": "code",
   "execution_count": 10,
   "metadata": {},
   "outputs": [
    {
     "name": "stdout",
     "output_type": "stream",
     "text": [
      "segments_per_file: 10\n",
      "sr: 44100\n",
      "n_fft: 2048\n",
      "hop_length: 512\n",
      "n_mels: 128\n",
      "n_frames: 2000\n"
     ]
    }
   ],
   "source": [
    "for key in audio_params: print(f'{key}: {audio_params[key]}')"
   ]
  },
  {
   "cell_type": "markdown",
   "metadata": {},
   "source": [
    "Checking the items in `data` (for verifying the code's success)..."
   ]
  },
  {
   "cell_type": "code",
   "execution_count": 11,
   "metadata": {},
   "outputs": [
    {
     "data": {
      "image/png": "[encoded data removed]",
      "text/plain": [
       "<Figure size 640x480 with 2 Axes>"
      ]
     },
     "metadata": {},
     "output_type": "display_data"
    }
   ],
   "source": [
    "# Checking a random melspectrogram from `data`...\n",
    "get_random_melspectrogram(data)"
   ]
  },
  {
   "cell_type": "markdown",
   "metadata": {},
   "source": [
    "Obtaining the data to be used for training and testing of neural networks..."
   ]
  },
  {
   "cell_type": "code",
   "execution_count": 12,
   "metadata": {},
   "outputs": [
    {
     "name": "stdout",
     "output_type": "stream",
     "text": [
      "Training data shape = (5436, 128, 200), Validation data shape = (604, 128, 200)\n"
     ]
    }
   ],
   "source": [
    "data_params, data_and_labels, train_dataset, validation_dataset = get_data(df,\n",
    "                                                                           data,\n",
    "                                                                           num_classes,\n",
    "                                                                           segments_per_file=segments_per_file,\n",
    "                                                                           validation_start=0.9,\n",
    "                                                                           batch_size=32)"
   ]
  },
  {
   "cell_type": "code",
   "execution_count": 13,
   "metadata": {},
   "outputs": [
    {
     "name": "stdout",
     "output_type": "stream",
     "text": [
      "segments_per_file: 10\n",
      "validation_start: 0.9\n",
      "num_classes: 24\n",
      "batch_size: 32\n"
     ]
    }
   ],
   "source": [
    "for key in data_params: print(f'{key}: {data_params[key]}')"
   ]
  },
  {
   "cell_type": "markdown",
   "metadata": {},
   "source": [
    "# Building & training the CNN\n",
    "\n",
    "## Defining the CNN architecture\n",
    "Note that in Keras, the first layer in any sequential model (initialised using `keras.Sequential`) must specify the input shape. Once this input shape is specified, Keras will automatically infer the shapes of inputs for later layers."
   ]
  },
  {
   "cell_type": "code",
   "execution_count": 68,
   "metadata": {
    "id": "4X_Ry4w7dUcZ"
   },
   "outputs": [],
   "source": [
    "# Function to generate CNN model...\n",
    "def get_model(input_shape=(audio_params['n_mels'], audio_params['n_frames'] // data_params['segments_per_file'], 1)):\n",
    "    '''\n",
    "    Input parameters:\n",
    "    - `input_shape (tuple)`: Shape of input set\n",
    "\n",
    "    Return values:\n",
    "    - `model`: CNN model\n",
    "    '''\n",
    "\n",
    "    # BUILD MODEL TOPOLOGY\n",
    "    \n",
    "    model = keras.Sequential([\n",
    "        keras.layers.Input(input_shape),\n",
    "        #________________________\n",
    "        # CONVOLUTIONAL LAYERS\n",
    "        # Convolutional layer 1:\n",
    "        keras.layers.Conv2D(8, (5, 5), padding='valid', activation='elu'),\n",
    "        # Convolutional layer 2:\n",
    "        keras.layers.Conv2D(8, (5, 5), padding='valid', activation='elu'),\n",
    "        # Convolutional layer 3:\n",
    "        keras.layers.Conv2D(8, (5, 5), padding='valid', activation='elu'),\n",
    "        # Convolutional layer 4:\n",
    "        keras.layers.Conv2D(8, (5, 5), padding='valid', activation='elu'),\n",
    "        # Convolutional layer 5:\n",
    "        keras.layers.Conv2D(8, (5, 5), padding='valid', activation='elu'),\n",
    "        keras.layers.MaxPooling2D(pool_size=(2, 2)),\n",
    "        keras.layers.Dropout(0.2),\n",
    "        #________________________\n",
    "        # DENSE LAYERS\n",
    "        # Flatten output and feed it into dense layer:\n",
    "        keras.layers.Flatten(),\n",
    "        keras.layers.BatchNormalization(),\n",
    "        keras.layers.Dense(48, activation='elu'),\n",
    "        #________________________\n",
    "        # OUTPUT LAYER\n",
    "        keras.layers.Dense(num_classes, activation='softmax')])\n",
    "    \n",
    "    #------------------------------------\n",
    "    # COMPILING MODEL WITH APPROPRIATE LOSS AND OPTIMIZER\n",
    "\n",
    "    # Optimizer:\n",
    "    optimizer = keras.optimizers.SGD(\n",
    "        learning_rate=0.001,\n",
    "        momentum=0.9,\n",
    "        weight_decay=0.0001)\n",
    "    # Loss function:\n",
    "    loss = keras.losses.CategoricalCrossentropy()\n",
    "    \n",
    "    model.compile(\n",
    "        optimizer=optimizer,\n",
    "        loss=loss,\n",
    "        metrics=['accuracy'])\n",
    "\n",
    "    return model"
   ]
  },
  {
   "cell_type": "markdown",
   "metadata": {},
   "source": [
    "**NOTE: Valid padding for convolutional layers**:\n",
    "\n",
    "Valid padding is a technique used in convolutional neural networks (CNNs) to process the input data without adding any additional rows or columns of pixels around the edges of the data. This means that the size of the output feature map is smaller than the size of the input data. Valid padding is used when it is desired to reduce the size of the output feature map in order to reduce the number of parameters in the model and improve its computational efficiency.\n",
    "> REFERENCE: https://www.geeksforgeeks.org/what-is-the-difference-between-same-and-valid-padding-in-tf-nn-max_pool-of-tensorflow/\n"
   ]
  },
  {
   "cell_type": "markdown",
   "metadata": {},
   "source": [
    "Checking the model's architecture..."
   ]
  },
  {
   "cell_type": "code",
   "execution_count": 69,
   "metadata": {},
   "outputs": [
    {
     "data": {
      "text/html": [
       "<pre style=\"white-space:pre;overflow-x:auto;line-height:normal;font-family:Menlo,'DejaVu Sans Mono',consolas,'Courier New',monospace\"><span style=\"font-weight: bold\">Model: \"sequential_14\"</span>\n",
       "</pre>\n"
      ],
      "text/plain": [
       "\u001b[1mModel: \"sequential_14\"\u001b[0m\n"
      ]
     },
     "metadata": {},
     "output_type": "display_data"
    },
    {
     "data": {
      "text/html": [
       "<pre style=\"white-space:pre;overflow-x:auto;line-height:normal;font-family:Menlo,'DejaVu Sans Mono',consolas,'Courier New',monospace\">┏━━━━━━━━━━━━━━━━━━━━━━━━━━━━━━━━━━━━━━┳━━━━━━━━━━━━━━━━━━━━━━━━━━━━━┳━━━━━━━━━━━━━━━━━┓\n",
       "┃<span style=\"font-weight: bold\"> Layer (type)                         </span>┃<span style=\"font-weight: bold\"> Output Shape                </span>┃<span style=\"font-weight: bold\">         Param # </span>┃\n",
       "┡━━━━━━━━━━━━━━━━━━━━━━━━━━━━━━━━━━━━━━╇━━━━━━━━━━━━━━━━━━━━━━━━━━━━━╇━━━━━━━━━━━━━━━━━┩\n",
       "│ conv2d_70 (<span style=\"color: #0087ff; text-decoration-color: #0087ff\">Conv2D</span>)                   │ (<span style=\"color: #00d7ff; text-decoration-color: #00d7ff\">None</span>, <span style=\"color: #00af00; text-decoration-color: #00af00\">124</span>, <span style=\"color: #00af00; text-decoration-color: #00af00\">196</span>, <span style=\"color: #00af00; text-decoration-color: #00af00\">8</span>)         │             <span style=\"color: #00af00; text-decoration-color: #00af00\">208</span> │\n",
       "├──────────────────────────────────────┼─────────────────────────────┼─────────────────┤\n",
       "│ conv2d_71 (<span style=\"color: #0087ff; text-decoration-color: #0087ff\">Conv2D</span>)                   │ (<span style=\"color: #00d7ff; text-decoration-color: #00d7ff\">None</span>, <span style=\"color: #00af00; text-decoration-color: #00af00\">120</span>, <span style=\"color: #00af00; text-decoration-color: #00af00\">192</span>, <span style=\"color: #00af00; text-decoration-color: #00af00\">8</span>)         │           <span style=\"color: #00af00; text-decoration-color: #00af00\">1,608</span> │\n",
       "├──────────────────────────────────────┼─────────────────────────────┼─────────────────┤\n",
       "│ conv2d_72 (<span style=\"color: #0087ff; text-decoration-color: #0087ff\">Conv2D</span>)                   │ (<span style=\"color: #00d7ff; text-decoration-color: #00d7ff\">None</span>, <span style=\"color: #00af00; text-decoration-color: #00af00\">116</span>, <span style=\"color: #00af00; text-decoration-color: #00af00\">188</span>, <span style=\"color: #00af00; text-decoration-color: #00af00\">8</span>)         │           <span style=\"color: #00af00; text-decoration-color: #00af00\">1,608</span> │\n",
       "├──────────────────────────────────────┼─────────────────────────────┼─────────────────┤\n",
       "│ conv2d_73 (<span style=\"color: #0087ff; text-decoration-color: #0087ff\">Conv2D</span>)                   │ (<span style=\"color: #00d7ff; text-decoration-color: #00d7ff\">None</span>, <span style=\"color: #00af00; text-decoration-color: #00af00\">112</span>, <span style=\"color: #00af00; text-decoration-color: #00af00\">184</span>, <span style=\"color: #00af00; text-decoration-color: #00af00\">8</span>)         │           <span style=\"color: #00af00; text-decoration-color: #00af00\">1,608</span> │\n",
       "├──────────────────────────────────────┼─────────────────────────────┼─────────────────┤\n",
       "│ conv2d_74 (<span style=\"color: #0087ff; text-decoration-color: #0087ff\">Conv2D</span>)                   │ (<span style=\"color: #00d7ff; text-decoration-color: #00d7ff\">None</span>, <span style=\"color: #00af00; text-decoration-color: #00af00\">108</span>, <span style=\"color: #00af00; text-decoration-color: #00af00\">180</span>, <span style=\"color: #00af00; text-decoration-color: #00af00\">8</span>)         │           <span style=\"color: #00af00; text-decoration-color: #00af00\">1,608</span> │\n",
       "├──────────────────────────────────────┼─────────────────────────────┼─────────────────┤\n",
       "│ max_pooling2d_14 (<span style=\"color: #0087ff; text-decoration-color: #0087ff\">MaxPooling2D</span>)      │ (<span style=\"color: #00d7ff; text-decoration-color: #00d7ff\">None</span>, <span style=\"color: #00af00; text-decoration-color: #00af00\">54</span>, <span style=\"color: #00af00; text-decoration-color: #00af00\">90</span>, <span style=\"color: #00af00; text-decoration-color: #00af00\">8</span>)           │               <span style=\"color: #00af00; text-decoration-color: #00af00\">0</span> │\n",
       "├──────────────────────────────────────┼─────────────────────────────┼─────────────────┤\n",
       "│ dropout_14 (<span style=\"color: #0087ff; text-decoration-color: #0087ff\">Dropout</span>)                 │ (<span style=\"color: #00d7ff; text-decoration-color: #00d7ff\">None</span>, <span style=\"color: #00af00; text-decoration-color: #00af00\">54</span>, <span style=\"color: #00af00; text-decoration-color: #00af00\">90</span>, <span style=\"color: #00af00; text-decoration-color: #00af00\">8</span>)           │               <span style=\"color: #00af00; text-decoration-color: #00af00\">0</span> │\n",
       "├──────────────────────────────────────┼─────────────────────────────┼─────────────────┤\n",
       "│ flatten_14 (<span style=\"color: #0087ff; text-decoration-color: #0087ff\">Flatten</span>)                 │ (<span style=\"color: #00d7ff; text-decoration-color: #00d7ff\">None</span>, <span style=\"color: #00af00; text-decoration-color: #00af00\">38880</span>)               │               <span style=\"color: #00af00; text-decoration-color: #00af00\">0</span> │\n",
       "├──────────────────────────────────────┼─────────────────────────────┼─────────────────┤\n",
       "│ batch_normalization_14               │ (<span style=\"color: #00d7ff; text-decoration-color: #00d7ff\">None</span>, <span style=\"color: #00af00; text-decoration-color: #00af00\">38880</span>)               │         <span style=\"color: #00af00; text-decoration-color: #00af00\">155,520</span> │\n",
       "│ (<span style=\"color: #0087ff; text-decoration-color: #0087ff\">BatchNormalization</span>)                 │                             │                 │\n",
       "├──────────────────────────────────────┼─────────────────────────────┼─────────────────┤\n",
       "│ dense_28 (<span style=\"color: #0087ff; text-decoration-color: #0087ff\">Dense</span>)                     │ (<span style=\"color: #00d7ff; text-decoration-color: #00d7ff\">None</span>, <span style=\"color: #00af00; text-decoration-color: #00af00\">48</span>)                  │       <span style=\"color: #00af00; text-decoration-color: #00af00\">1,866,288</span> │\n",
       "├──────────────────────────────────────┼─────────────────────────────┼─────────────────┤\n",
       "│ dense_29 (<span style=\"color: #0087ff; text-decoration-color: #0087ff\">Dense</span>)                     │ (<span style=\"color: #00d7ff; text-decoration-color: #00d7ff\">None</span>, <span style=\"color: #00af00; text-decoration-color: #00af00\">24</span>)                  │           <span style=\"color: #00af00; text-decoration-color: #00af00\">1,176</span> │\n",
       "└──────────────────────────────────────┴─────────────────────────────┴─────────────────┘\n",
       "</pre>\n"
      ],
      "text/plain": [
       "┏━━━━━━━━━━━━━━━━━━━━━━━━━━━━━━━━━━━━━━┳━━━━━━━━━━━━━━━━━━━━━━━━━━━━━┳━━━━━━━━━━━━━━━━━┓\n",
       "┃\u001b[1m \u001b[0m\u001b[1mLayer (type)                        \u001b[0m\u001b[1m \u001b[0m┃\u001b[1m \u001b[0m\u001b[1mOutput Shape               \u001b[0m\u001b[1m \u001b[0m┃\u001b[1m \u001b[0m\u001b[1m        Param #\u001b[0m\u001b[1m \u001b[0m┃\n",
       "┡━━━━━━━━━━━━━━━━━━━━━━━━━━━━━━━━━━━━━━╇━━━━━━━━━━━━━━━━━━━━━━━━━━━━━╇━━━━━━━━━━━━━━━━━┩\n",
       "│ conv2d_70 (\u001b[38;5;33mConv2D\u001b[0m)                   │ (\u001b[38;5;45mNone\u001b[0m, \u001b[38;5;34m124\u001b[0m, \u001b[38;5;34m196\u001b[0m, \u001b[38;5;34m8\u001b[0m)         │             \u001b[38;5;34m208\u001b[0m │\n",
       "├──────────────────────────────────────┼─────────────────────────────┼─────────────────┤\n",
       "│ conv2d_71 (\u001b[38;5;33mConv2D\u001b[0m)                   │ (\u001b[38;5;45mNone\u001b[0m, \u001b[38;5;34m120\u001b[0m, \u001b[38;5;34m192\u001b[0m, \u001b[38;5;34m8\u001b[0m)         │           \u001b[38;5;34m1,608\u001b[0m │\n",
       "├──────────────────────────────────────┼─────────────────────────────┼─────────────────┤\n",
       "│ conv2d_72 (\u001b[38;5;33mConv2D\u001b[0m)                   │ (\u001b[38;5;45mNone\u001b[0m, \u001b[38;5;34m116\u001b[0m, \u001b[38;5;34m188\u001b[0m, \u001b[38;5;34m8\u001b[0m)         │           \u001b[38;5;34m1,608\u001b[0m │\n",
       "├──────────────────────────────────────┼─────────────────────────────┼─────────────────┤\n",
       "│ conv2d_73 (\u001b[38;5;33mConv2D\u001b[0m)                   │ (\u001b[38;5;45mNone\u001b[0m, \u001b[38;5;34m112\u001b[0m, \u001b[38;5;34m184\u001b[0m, \u001b[38;5;34m8\u001b[0m)         │           \u001b[38;5;34m1,608\u001b[0m │\n",
       "├──────────────────────────────────────┼─────────────────────────────┼─────────────────┤\n",
       "│ conv2d_74 (\u001b[38;5;33mConv2D\u001b[0m)                   │ (\u001b[38;5;45mNone\u001b[0m, \u001b[38;5;34m108\u001b[0m, \u001b[38;5;34m180\u001b[0m, \u001b[38;5;34m8\u001b[0m)         │           \u001b[38;5;34m1,608\u001b[0m │\n",
       "├──────────────────────────────────────┼─────────────────────────────┼─────────────────┤\n",
       "│ max_pooling2d_14 (\u001b[38;5;33mMaxPooling2D\u001b[0m)      │ (\u001b[38;5;45mNone\u001b[0m, \u001b[38;5;34m54\u001b[0m, \u001b[38;5;34m90\u001b[0m, \u001b[38;5;34m8\u001b[0m)           │               \u001b[38;5;34m0\u001b[0m │\n",
       "├──────────────────────────────────────┼─────────────────────────────┼─────────────────┤\n",
       "│ dropout_14 (\u001b[38;5;33mDropout\u001b[0m)                 │ (\u001b[38;5;45mNone\u001b[0m, \u001b[38;5;34m54\u001b[0m, \u001b[38;5;34m90\u001b[0m, \u001b[38;5;34m8\u001b[0m)           │               \u001b[38;5;34m0\u001b[0m │\n",
       "├──────────────────────────────────────┼─────────────────────────────┼─────────────────┤\n",
       "│ flatten_14 (\u001b[38;5;33mFlatten\u001b[0m)                 │ (\u001b[38;5;45mNone\u001b[0m, \u001b[38;5;34m38880\u001b[0m)               │               \u001b[38;5;34m0\u001b[0m │\n",
       "├──────────────────────────────────────┼─────────────────────────────┼─────────────────┤\n",
       "│ batch_normalization_14               │ (\u001b[38;5;45mNone\u001b[0m, \u001b[38;5;34m38880\u001b[0m)               │         \u001b[38;5;34m155,520\u001b[0m │\n",
       "│ (\u001b[38;5;33mBatchNormalization\u001b[0m)                 │                             │                 │\n",
       "├──────────────────────────────────────┼─────────────────────────────┼─────────────────┤\n",
       "│ dense_28 (\u001b[38;5;33mDense\u001b[0m)                     │ (\u001b[38;5;45mNone\u001b[0m, \u001b[38;5;34m48\u001b[0m)                  │       \u001b[38;5;34m1,866,288\u001b[0m │\n",
       "├──────────────────────────────────────┼─────────────────────────────┼─────────────────┤\n",
       "│ dense_29 (\u001b[38;5;33mDense\u001b[0m)                     │ (\u001b[38;5;45mNone\u001b[0m, \u001b[38;5;34m24\u001b[0m)                  │           \u001b[38;5;34m1,176\u001b[0m │\n",
       "└──────────────────────────────────────┴─────────────────────────────┴─────────────────┘\n"
      ]
     },
     "metadata": {},
     "output_type": "display_data"
    },
    {
     "data": {
      "text/html": [
       "<pre style=\"white-space:pre;overflow-x:auto;line-height:normal;font-family:Menlo,'DejaVu Sans Mono',consolas,'Courier New',monospace\"><span style=\"font-weight: bold\"> Total params: </span><span style=\"color: #00af00; text-decoration-color: #00af00\">2,029,624</span> (7.74 MB)\n",
       "</pre>\n"
      ],
      "text/plain": [
       "\u001b[1m Total params: \u001b[0m\u001b[38;5;34m2,029,624\u001b[0m (7.74 MB)\n"
      ]
     },
     "metadata": {},
     "output_type": "display_data"
    },
    {
     "data": {
      "text/html": [
       "<pre style=\"white-space:pre;overflow-x:auto;line-height:normal;font-family:Menlo,'DejaVu Sans Mono',consolas,'Courier New',monospace\"><span style=\"font-weight: bold\"> Trainable params: </span><span style=\"color: #00af00; text-decoration-color: #00af00\">1,951,864</span> (7.45 MB)\n",
       "</pre>\n"
      ],
      "text/plain": [
       "\u001b[1m Trainable params: \u001b[0m\u001b[38;5;34m1,951,864\u001b[0m (7.45 MB)\n"
      ]
     },
     "metadata": {},
     "output_type": "display_data"
    },
    {
     "data": {
      "text/html": [
       "<pre style=\"white-space:pre;overflow-x:auto;line-height:normal;font-family:Menlo,'DejaVu Sans Mono',consolas,'Courier New',monospace\"><span style=\"font-weight: bold\"> Non-trainable params: </span><span style=\"color: #00af00; text-decoration-color: #00af00\">77,760</span> (303.75 KB)\n",
       "</pre>\n"
      ],
      "text/plain": [
       "\u001b[1m Non-trainable params: \u001b[0m\u001b[38;5;34m77,760\u001b[0m (303.75 KB)\n"
      ]
     },
     "metadata": {},
     "output_type": "display_data"
    }
   ],
   "source": [
    "model = get_model()\n",
    "model.summary()"
   ]
  },
  {
   "cell_type": "markdown",
   "metadata": {},
   "source": [
    "## Defining customised performance function\n",
    "Customised performance function to account for distance from correct label...\n",
    "\n",
    "**NOTE: Categories of predictions**:\n",
    "\n",
    "- **Correct**: if the tonic and the mode (major/minor) of prediction and target correspond\n",
    "- **Fifth**: if the tonic of the prediction is the fifth of the target (or vice versa), and modes correspond\n",
    "- **Relative Minor/Major**: if modes differ and either one of the following is true:\n",
    "    - The predicted mode is minor and the predicted tonic is 3 semitones below the target\n",
    "    - The predicted mode is major and the predicted tonic is 3 semitones above the target\n",
    "- **Parallel Minor/Major**: if modes differ but the predicted tonic matches the target\n",
    "- **Other**: Prediction errors not caught by any category, i.e. the most severe errors\n",
    "\n",
    "Now, note that in the current key-to-integer mapping, we have the following:\n",
    "\n",
    "- key $<$ 12 means major\n",
    "- key $\\geq$ 12 means minor\n",
    "- If key $<$ 12, key + 12 is the minor version of the same key\n",
    "- If key $\\geq$ 12, key - 12 is the major version of the same key\n",
    "\n",
    "**NOTE: Performance calculation**:\n",
    "\n",
    "We first compute the ratio of predictions that fall into each category. We then calculate the MIREX weighted score as:\n",
    "\n",
    "$w = r_c + 0.5 \\cdot r_f + 0.3 \\cdot r_r + 0.2 \\cdot r_p$\n",
    "\n",
    "Here, $r_c$, $r_f$ , $r_r$ and $r_p$ are the ratios of the correct, fifth, relative minor/major and parallel minor/major respectively."
   ]
  },
  {
   "cell_type": "code",
   "execution_count": 70,
   "metadata": {},
   "outputs": [],
   "source": [
    "def get_performance(model, data, labels):\n",
    "    # Computing the ratios of predictions lying in the following categories:\n",
    "    r_c = r_f = r_r = r_p = other = float(0)\n",
    "    n = float(len(data))\n",
    "\n",
    "    predictions = np.argmax(model(data), axis=1)\n",
    "    # NOTE: `model.predict(x)` returns a vector whose maximum value's index corresponds to the predicted target value\n",
    "\n",
    "    for y_pred, y_true in zip(predictions, labels):\n",
    "        # Classifying the predictions:\n",
    "        if y_pred == y_true:\n",
    "            r_c += 1\n",
    "        elif y_pred == y_true - 5 or y_pred == y_true + 7:\n",
    "            r_f += 1\n",
    "        elif (y_pred >= 12 and y_pred == y_true - 3 + 12) or (y_pred < 12 and y_pred == y_true + 3 - 12):\n",
    "            r_r += 1\n",
    "        elif y_pred == y_true - 12 or y_pred == y_true + 12:\n",
    "            r_p += 1\n",
    "        else:\n",
    "            other += 1\n",
    "\n",
    "    r_c, r_f, r_r, r_p = r_c/n, r_f/n, r_r/n, r_p/n\n",
    "    return r_c + 0.5*r_f + 0.3*r_r + 0.2*r_p"
   ]
  },
  {
   "cell_type": "markdown",
   "metadata": {},
   "source": [
    "## Training the CNN\n",
    "### APPROACH 1: Use of predefined training functions (for demonstration purposes)\n",
    "Using predefined methods of `tensorflow.keras.Model`.\n",
    "\n",
    "> REFERENCES:\n",
    "> - https://victorzhou.com/blog/keras-cnn-tutorial/\n",
    "> - https://www.tensorflow.org/api_docs/python/tf/keras/Model"
   ]
  },
  {
   "cell_type": "code",
   "execution_count": 71,
   "metadata": {},
   "outputs": [
    {
     "name": "stdout",
     "output_type": "stream",
     "text": [
      "TRAINING\n",
      "Epoch 1/10\n",
      "\u001b[1m170/170\u001b[0m \u001b[32m━━━━━━━━━━━━━━━━━━━━\u001b[0m\u001b[37m\u001b[0m \u001b[1m30s\u001b[0m 159ms/step - accuracy: 0.1780 - loss: 3.3791 - val_accuracy: 0.3113 - val_loss: 2.4541\n",
      "Epoch 2/10\n",
      "\u001b[1m170/170\u001b[0m \u001b[32m━━━━━━━━━━━━━━━━━━━━\u001b[0m\u001b[37m\u001b[0m \u001b[1m26s\u001b[0m 152ms/step - accuracy: 0.5605 - loss: 1.5320 - val_accuracy: 0.4503 - val_loss: 1.8836\n",
      "Epoch 3/10\n",
      "\u001b[1m170/170\u001b[0m \u001b[32m━━━━━━━━━━━━━━━━━━━━\u001b[0m\u001b[37m\u001b[0m \u001b[1m25s\u001b[0m 150ms/step - accuracy: 0.8468 - loss: 0.5527 - val_accuracy: 0.4868 - val_loss: 1.8478\n",
      "Epoch 4/10\n",
      "\u001b[1m170/170\u001b[0m \u001b[32m━━━━━━━━━━━━━━━━━━━━\u001b[0m\u001b[37m\u001b[0m \u001b[1m25s\u001b[0m 149ms/step - accuracy: 0.9606 - loss: 0.2079 - val_accuracy: 0.5265 - val_loss: 1.7695\n",
      "Epoch 5/10\n",
      "\u001b[1m170/170\u001b[0m \u001b[32m━━━━━━━━━━━━━━━━━━━━\u001b[0m\u001b[37m\u001b[0m \u001b[1m26s\u001b[0m 150ms/step - accuracy: 0.9918 - loss: 0.0986 - val_accuracy: 0.5397 - val_loss: 1.7806\n",
      "Epoch 6/10\n",
      "\u001b[1m170/170\u001b[0m \u001b[32m━━━━━━━━━━━━━━━━━━━━\u001b[0m\u001b[37m\u001b[0m \u001b[1m26s\u001b[0m 155ms/step - accuracy: 0.9976 - loss: 0.0555 - val_accuracy: 0.5381 - val_loss: 1.7665\n",
      "Epoch 7/10\n",
      "\u001b[1m170/170\u001b[0m \u001b[32m━━━━━━━━━━━━━━━━━━━━\u001b[0m\u001b[37m\u001b[0m \u001b[1m26s\u001b[0m 155ms/step - accuracy: 0.9992 - loss: 0.0370 - val_accuracy: 0.5397 - val_loss: 1.8143\n",
      "Epoch 8/10\n",
      "\u001b[1m170/170\u001b[0m \u001b[32m━━━━━━━━━━━━━━━━━━━━\u001b[0m\u001b[37m\u001b[0m \u001b[1m25s\u001b[0m 149ms/step - accuracy: 1.0000 - loss: 0.0267 - val_accuracy: 0.5530 - val_loss: 1.8117\n",
      "Epoch 9/10\n",
      "\u001b[1m170/170\u001b[0m \u001b[32m━━━━━━━━━━━━━━━━━━━━\u001b[0m\u001b[37m\u001b[0m \u001b[1m26s\u001b[0m 155ms/step - accuracy: 1.0000 - loss: 0.0212 - val_accuracy: 0.5513 - val_loss: 1.8160\n",
      "Epoch 10/10\n",
      "\u001b[1m170/170\u001b[0m \u001b[32m━━━━━━━━━━━━━━━━━━━━\u001b[0m\u001b[37m\u001b[0m \u001b[1m26s\u001b[0m 151ms/step - accuracy: 1.0000 - loss: 0.0176 - val_accuracy: 0.5513 - val_loss: 1.8354\n"
     ]
    }
   ],
   "source": [
    "# Code needed to log training history:\n",
    "from keras.callbacks import CSVLogger\n",
    "csv_logger = CSVLogger('musicalKeyClassificationTraining.log', separator=',', append=False)\n",
    "\n",
    "# Building model:\n",
    "model = get_model()\n",
    "\n",
    "# Training model:\n",
    "print('TRAINING')\n",
    "history = model.fit(\n",
    "    train_dataset,\n",
    "    epochs=10,\n",
    "    batch_size=data_params['batch_size'],\n",
    "    validation_data=validation_dataset,\n",
    "    verbose=True,\n",
    "    callbacks=[csv_logger])"
   ]
  },
  {
   "cell_type": "code",
   "execution_count": 72,
   "metadata": {},
   "outputs": [
    {
     "name": "stdout",
     "output_type": "stream",
     "text": [
      "EVALUATION\n",
      "\u001b[1m19/19\u001b[0m \u001b[32m━━━━━━━━━━━━━━━━━━━━\u001b[0m\u001b[37m\u001b[0m \u001b[1m1s\u001b[0m 53ms/step - accuracy: 0.5583 - loss: 1.9047\n",
      "Validation performance = 0.6114238410596027\n"
     ]
    }
   ],
   "source": [
    "# Evaluating model:\n",
    "print('EVALUATION')\n",
    "validation_error, validation_accuracy = model.evaluate(validation_dataset, verbose=True)\n",
    "print('Validation performance =', get_performance(model, data_and_labels['validation_data'], data_and_labels['validation_labels']))"
   ]
  },
  {
   "cell_type": "code",
   "execution_count": 73,
   "metadata": {},
   "outputs": [],
   "source": [
    "# Saving the model for later use:\n",
    "save_model(model, 'storage/musicalKeyClassificationTrainedModelWeights.npy')"
   ]
  },
  {
   "cell_type": "markdown",
   "metadata": {},
   "source": [
    "Plotting the model's accuracy (training and validation) across training..."
   ]
  },
  {
   "cell_type": "code",
   "execution_count": 74,
   "metadata": {},
   "outputs": [
    {
     "data": {
      "image/png": "[encoded data removed]",
      "text/plain": [
       "<Figure size 640x480 with 1 Axes>"
      ]
     },
     "metadata": {},
     "output_type": "display_data"
    }
   ],
   "source": [
    "plt.plot(history.history['accuracy'])\n",
    "plt.plot(history.history['val_accuracy'])\n",
    "plt.title('Model accuracy')\n",
    "plt.ylabel('accuracy')\n",
    "plt.xlabel('epoch')\n",
    "plt.legend(['training', 'validation'])\n",
    "plt.show()"
   ]
  },
  {
   "cell_type": "markdown",
   "metadata": {},
   "source": [
    "### APPROACH 2: Customised training loop\n",
    "Using a more elaborate training loop for customising the training process. Customisations include:\n",
    "\n",
    "- Changing the learning rate mid-process\n",
    "- Keeping track of customised performance measure across training epochs\n",
    "- Keeping track of and reverting (periodically, if applicable) to the the model with best validation performance\n",
    "\n",
    "---\n",
    "\n",
    "> REFERENCE: https://keras.io/guides/writing_a_custom_training_loop_in_tensorflow/\n",
    "\n",
    "---\n",
    "\n",
    "Customised training loop (**not executed due to time constraints**)..."
   ]
  },
  {
   "cell_type": "markdown",
   "metadata": {},
   "source": [
    "```python\n",
    "train_data = data_and_labels['train_data']\n",
    "train_labels = data_and_labels['train_labels']\n",
    "validation_data = data_and_labels['validation_data']\n",
    "validation_labels = data_and_labels['validation_labels']\n",
    "batch_size = data_params['batch_size']\n",
    "\n",
    "# Building the model:\n",
    "model = get_model()\n",
    "# Fixing number of epochs:\n",
    "epochs = 20\n",
    "# Preparing the metrics:\n",
    "train_acc_metric = keras.metrics.CategoricalAccuracy()\n",
    "validation_acc_metric = keras.metrics.CategoricalAccuracy()\n",
    "\n",
    "#================================================\n",
    "\n",
    "train_accs_per_epoch = []\n",
    "train_performances_per_epoch = []\n",
    "validation_accs = []\n",
    "validation_performances = []\n",
    "\n",
    "best_validation_performance = 0\n",
    "best_model_weights = model.get_weights() # Deep copy is not needed (check `model.get_weights` implementation to see why)\n",
    "\n",
    "for epoch in range(epochs):\n",
    "    print(f'\\nEPOCH {epoch + 1}/{epochs}')\n",
    "    print(f'Learning rate: {float(model.optimizer.learning_rate.value):.8f}')\n",
    "    #------------------------------------\n",
    "    # TRAINING LOOP\n",
    "    \n",
    "    # Iterating over the the dataset\n",
    "    for step, (x, y) in enumerate(train_dataset):\n",
    "        '''\n",
    "        NEXT:\n",
    "        Open a `GradientTape` to record the operations run during the\n",
    "        forward pass, which enables auto-differentiation.\n",
    "        '''\n",
    "        # Running the forward pass of the layer:\n",
    "        with tf.GradientTape() as tape:\n",
    "            '''\n",
    "            The operations that the layer applies to its inputs are going\n",
    "            to be recorded on the GradientTape.\n",
    "            '''\n",
    "            logits = model(x, training=True)\n",
    "\n",
    "            # Computing the loss value:\n",
    "            loss_value = model.loss(y, logits)\n",
    "            \n",
    "        #________________________\n",
    "        '''\n",
    "        NEXT:\n",
    "        Use the gradient tape to automatically retrieve the gradients of the\n",
    "        trainable variables with respect to the loss.\n",
    "        '''\n",
    "        grads = tape.gradient(loss_value, model.trainable_weights)\n",
    "        #________________________\n",
    "        '''\n",
    "        NEXT:\n",
    "        Run one step of gradient descent by updating the value of the\n",
    "        variables to minimize the loss.\n",
    "        '''\n",
    "        model.optimizer.apply(grads, model.trainable_weights)\n",
    "        #________________________\n",
    "        # Updating training metric:\n",
    "        train_acc_metric.update_state(y, logits)\n",
    "\n",
    "    # Display metrics at the end of each epoch.\n",
    "    train_acc = train_acc_metric.result()\n",
    "    train_performance = get_performance(model, train_data, train_labels)\n",
    "\n",
    "    train_accs_per_epoch.append(train_acc)\n",
    "    train_performances_per_epoch.append(train_performance)\n",
    "    \n",
    "    print(f'Training accuracy & performance over epoch: {train_acc:.4f} & {train_performance:.4f}')\n",
    "\n",
    "    # Resetting training metrics at the end of each epoch\n",
    "    train_acc_metric.reset_state()\n",
    "    \n",
    "    #------------------------------------\n",
    "    # VALIDATION LOOP\n",
    "    \n",
    "    # Running a validation loop at the end of each epoch:\n",
    "    for x, y in validation_dataset:\n",
    "        validation_logits = model(x, training=False)\n",
    "        # Updating validation metrics:\n",
    "        validation_acc_metric.update_state(y, validation_logits)\n",
    "    validation_acc = validation_acc_metric.result()\n",
    "    validation_performance = get_performance(model, validation_data, validation_labels)\n",
    "    validation_acc_metric.reset_state()\n",
    "\n",
    "    validation_accs.append(validation_acc)\n",
    "    validation_performances.append(validation_performance)\n",
    "    \n",
    "    # Printing results:\n",
    "    print(f'Validation accuracy & performance: {validation_acc:.4f} & {validation_performance:.4f}')\n",
    "\n",
    "    # Updating best validation accuracy, performance and weights of the best model (best with respect to performance):\n",
    "    if validation_performance > best_validation_performance:\n",
    "        best_validation_performance = validation_performance\n",
    "        best_model_weights = model.get_weights()\n",
    "    \n",
    "    # Every 5 epochs, check if current validation performance <= best validation performance\n",
    "    # If so, halve the learning rate and revert to the best model so far...\n",
    "    if (epoch + 1) % 5 == 0 and validation_performance <= best_validation_performance:\n",
    "        model.set_weights(best_model_weights) # Deep copy is not needed (check `model.set_weights` implementation to see why)\n",
    "        model.optimizer.learning_rate /= 2\n",
    "\n",
    "#================================================\n",
    "# Saving the model for later use:\n",
    "save_model(model, 'storage/musicalKeyClassificationTrainedModelWeights_customisedLoop.npy')\n",
    "\n",
    "#================================================\n",
    "# Plotting the model's accuracy and performance (training and validation) across training epochs:\n",
    "plt.plot(train_accs_per_epoch)\n",
    "plt.plot(validation_accs)\n",
    "plt.plot(train_performances_per_epoch)\n",
    "plt.plot(validation_performances)\n",
    "plt.title('Model accuracy & performance')\n",
    "plt.ylabel('accuracy')\n",
    "plt.xlabel('epoch')\n",
    "plt.legend(['training accuracy', 'validation accuracy', 'training performance', 'validation performance'])\n",
    "plt.show()\n",
    "```"
   ]
  }
 ],
 "metadata": {
  "celltoolbar": "Raw Cell Format",
  "colab": {
   "provenance": []
  },
  "kernelspec": {
   "display_name": "Python 3 (ipykernel)",
   "language": "python",
   "name": "python3"
  },
  "language_info": {
   "codemirror_mode": {
    "name": "ipython",
    "version": 3
   },
   "file_extension": ".py",
   "mimetype": "text/x-python",
   "name": "python",
   "nbconvert_exporter": "python",
   "pygments_lexer": "ipython3",
   "version": "3.11.9"
  }
 },
 "nbformat": 4,
 "nbformat_minor": 4
}
